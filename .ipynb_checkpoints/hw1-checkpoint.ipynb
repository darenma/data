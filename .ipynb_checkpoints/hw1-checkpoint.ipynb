{
 "cells": [
  {
   "cell_type": "markdown",
   "metadata": {
    "nbgrader": {
     "grade": false,
     "grade_id": "cell-c221f36c8cb8cc40",
     "locked": true,
     "schema_version": 1,
     "solution": false
    }
   },
   "source": [
    "# Recommendation systems\n",
    "Welcome to your first homework assignment about recommendation systems.\n"
   ]
  },
  {
   "cell_type": "markdown",
   "metadata": {},
   "source": [
    "1. Watch this video on Youtube recommendation system https://www.youtube.com/watch?v=zzTbptEdKhY"
   ]
  },
  {
   "cell_type": "markdown",
   "metadata": {
    "nbgrader": {
     "grade": false,
     "grade_id": "cell-5ceae71aaff52339",
     "locked": true,
     "schema_version": 1,
     "solution": false
    }
   },
   "source": [
    "2. ## The Cold Start Problem \n",
    "\n",
    "The colaborative filtering method discussed in class does not address the problem of new user or new movies. What prediction would you use in these cases:\n",
    "\n",
    "* A new user but a known movie\n",
    "* A new movie and a known user\n",
    "* A new user and new movie"
   ]
  },
  {
   "cell_type": "markdown",
   "metadata": {
    "nbgrader": {
     "grade": false,
     "grade_id": "cell-d43d0152c6b4e82f",
     "locked": true,
     "schema_version": 1,
     "solution": false
    }
   },
   "source": [
    "3. ## Matrix Factorization with bias\n",
    "We want to extend the Matrix Factorization model discussed in class to add a \"bias\" parameter for each user and another \"bias\" parameter for each movie.  For the problem in class we had the parameters matrix $U$ and $V$, we are adding $u^0$ which is a vector of dimension $n_u$ and $v^0$ which is a vector of dimension $n_m$. The equations\n",
    "\n",
    "    $\\hat{y}_{ij} = u_{0i} + v_{0j} + u_i \\cdot v_j  $\n",
    " \n",
    "(a) How many weights (parameters) are we fitting for this problem?\n",
    "\n",
    "There are $n_u * K + n_m * K + n_m + n_u = {(K+1)}{(n_u + n_m)}$ parameters.\n",
    "\n",
    "(b) Write the gradient descent equations for this problem.\n",
    "\n",
    "$u_{is},v_{js},u_{0i}, v_{0j}  \\leftarrow $random  initialization\n",
    "\n",
    "$for \\ {{i = 1: maxiter}} \\ do:$\n",
    "\n",
    "$u_{is} \\leftarrow u_{is} + \\frac{2\\eta}{N} \\sum_{i, j:r_{ij}=1}(y_{ij}-u_iv_j-u_{0i}-v_{0j})v_{js};$\n",
    "\n",
    "$v_{js} \\leftarrow v_{js} + \\frac{2\\eta}{N} \\sum_{i, j:r_{ij}=1}(y_{ij}-u_iv_j-u_{0i}-v_{0j})u_{is};$\n",
    "\n",
    "$u_{0i} \\leftarrow u_{0i} + \\frac{2\\eta}{N} \\sum_{i, j:r_{ij}=1}(y_{ij}-u_iv_j-u_{0i}-v_{0j});$\n",
    "\n",
    "$v_{0j} \\leftarrow v_{0j} + \\frac{2\\eta}{N} \\sum_{i, j:r_{ij}=1}(y_{ij}-u_iv_j-u_{0i}-v_{0j});$"
   ]
  },
  {
   "cell_type": "markdown",
   "metadata": {
    "nbgrader": {
     "grade": false,
     "grade_id": "cell-a3ecbb6da6a04705",
     "locked": true,
     "schema_version": 1,
     "solution": false
    }
   },
   "source": [
    "4. ## Collaborative Filtering with Gradient Descent \n",
    "\n",
    "In this part of the assignment you will build a collaborative filtering model to predict netflix ratings.  This assignment will step you through how to do this using stochastic gradient descent. \n",
    "\n",
    "**Instructions:**\n",
    "- Do not use loops (for/while) in your code, unless the instructions explicitly ask you to do so.\n",
    "- DO NOT change paths (-3 points)\n",
    "- DO NOT submit data to github (-2 points)\n",
    "\n",
    "**You will learn to:**\n",
    "- Build the general architecture of a learning algorithm, including:\n",
    "    - Encoding rating data\n",
    "    - Initializing parameters\n",
    "    - Calculating the cost function\n",
    "    - Calculating gradient\n",
    "    - Using an optimization algorithm (gradient descent) \n",
    "    - Predicting on new data\n",
    "- Putting it all together."
   ]
  },
  {
   "cell_type": "code",
   "execution_count": 1,
   "metadata": {},
   "outputs": [],
   "source": [
    "import numpy as np\n",
    "import pandas as pd"
   ]
  },
  {
   "cell_type": "markdown",
   "metadata": {
    "nbgrader": {
     "grade": false,
     "grade_id": "cell-0ea2a22f6bbdabbc",
     "locked": true,
     "schema_version": 1,
     "solution": false
    }
   },
   "source": [
    "## Encoding rating data\n",
    "Here are our very small subset of fake data to get us started."
   ]
  },
  {
   "cell_type": "code",
   "execution_count": 2,
   "metadata": {},
   "outputs": [
    {
     "name": "stdout",
     "output_type": "stream",
     "text": [
      "userId,movieId,rating\r\n",
      "11,1,4\r\n",
      "11,23,5\r\n",
      "2,23,5\r\n",
      "2,4,3\r\n",
      "31,1,4\r\n",
      "31,23,4\r\n",
      "4,1,5\r\n",
      "4,3,2\r\n",
      "52,1,1\r\n",
      "52,3,4\r\n",
      "61,3,5\r\n",
      "7,23,1\r\n",
      "7,3,3\r\n"
     ]
    }
   ],
   "source": [
    "# The first row says that user 11 reated movie 1 with a score of 4\n",
    "!cat tiny_training2.csv "
   ]
  },
  {
   "cell_type": "code",
   "execution_count": 3,
   "metadata": {
    "nbgrader": {
     "grade": false,
     "grade_id": "cell-44b682275c3630cc",
     "locked": true,
     "schema_version": 1,
     "solution": false
    }
   },
   "outputs": [],
   "source": [
    "# here is a handy function from fast.ai\n",
    "def proc_col(col):\n",
    "    \"\"\"Encodes a pandas column with continous ids. \n",
    "    \"\"\"\n",
    "    uniq = col.unique()\n",
    "    name2idx = {o:i for i,o in enumerate(uniq)}\n",
    "    return name2idx, np.array([name2idx[x] for x in col]), len(uniq)"
   ]
  },
  {
   "cell_type": "code",
   "execution_count": 32,
   "metadata": {
    "nbgrader": {
     "grade": false,
     "grade_id": "cell-41f615ff687624c5",
     "locked": false,
     "schema_version": 1,
     "solution": true
    }
   },
   "outputs": [],
   "source": [
    "def encode_data(df):\n",
    "    \"\"\"Encodes rating data with continous user and movie ids using \n",
    "    the helpful fast.ai function from above.\n",
    "    \n",
    "    Arguments:\n",
    "      train_csv: a csv file with columns user_id,movie_id,rating \n",
    "    \n",
    "    Returns:\n",
    "      df: a dataframe with the encode data\n",
    "      num_users\n",
    "      num_movies\n",
    "      \n",
    "    \"\"\"\n",
    "    ### BEGIN SOLUTION\n",
    "    idx_u, array_u, len_u = proc_col(df[\"userId\"])\n",
    "    idx_m, array_m, len_m = proc_col(df[\"movieId\"])\n",
    "    num_users = len_u\n",
    "    num_movies = len_m\n",
    "    df[\"userId\"] = array_u\n",
    "    df[\"movieId\"] = array_m\n",
    "    ### END SOLUTION\n",
    "    return df, num_users, num_movies"
   ]
  },
  {
   "cell_type": "code",
   "execution_count": 33,
   "metadata": {},
   "outputs": [],
   "source": [
    "df = pd.read_csv(\"tiny_training2.csv\")\n",
    "df, num_users, num_movies = encode_data(df)"
   ]
  },
  {
   "cell_type": "code",
   "execution_count": 35,
   "metadata": {
    "nbgrader": {
     "grade": true,
     "grade_id": "cell-9f450c8da332e44a",
     "locked": true,
     "points": 1,
     "schema_version": 1,
     "solution": false
    }
   },
   "outputs": [],
   "source": [
    "assert(num_users == 7)"
   ]
  },
  {
   "cell_type": "code",
   "execution_count": 36,
   "metadata": {
    "nbgrader": {
     "grade": true,
     "grade_id": "cell-e2782b6d1a8b7e78",
     "locked": true,
     "points": 1,
     "schema_version": 1,
     "solution": false
    }
   },
   "outputs": [],
   "source": [
    "assert(num_movies == 4)"
   ]
  },
  {
   "cell_type": "code",
   "execution_count": 37,
   "metadata": {
    "nbgrader": {
     "grade": true,
     "grade_id": "cell-33d1f1e347947a47",
     "locked": true,
     "points": 1,
     "schema_version": 1,
     "solution": false
    }
   },
   "outputs": [],
   "source": [
    "np.testing.assert_equal(df[\"userId\"].values, np.array([0, 0, 1, 1, 2, 2, 3, 3, 4, 4, 5, 6, 6]))"
   ]
  },
  {
   "cell_type": "code",
   "execution_count": 38,
   "metadata": {
    "nbgrader": {
     "grade": true,
     "grade_id": "cell-a17fa0331b6be94d",
     "locked": true,
     "points": 2,
     "schema_version": 1,
     "solution": false
    }
   },
   "outputs": [],
   "source": [
    "np.testing.assert_equal(df[\"movieId\"].values, np.array([0, 1, 1, 2, 0, 1, 0, 3, 0, 3, 3, 1, 3]))"
   ]
  },
  {
   "cell_type": "markdown",
   "metadata": {
    "nbgrader": {
     "grade": false,
     "grade_id": "cell-72490bca925d342a",
     "locked": true,
     "schema_version": 1,
     "solution": false
    }
   },
   "source": [
    "## Initializing parameters"
   ]
  },
  {
   "cell_type": "code",
   "execution_count": 39,
   "metadata": {
    "nbgrader": {
     "grade": false,
     "grade_id": "cell-86cdf4ce1a4fb8f7",
     "locked": true,
     "schema_version": 1,
     "solution": false
    }
   },
   "outputs": [
    {
     "data": {
      "text/plain": [
       "array([[3.55790894, 4.69774849, 0.92361109, 1.58739544, 3.00593239],\n",
       "       [4.69774849, 7.44656163, 1.18135616, 2.64524868, 4.74559066],\n",
       "       [0.92361109, 1.18135616, 0.24548062, 0.34025121, 0.69616965],\n",
       "       [1.58739544, 2.64524868, 0.34025121, 1.61561   , 2.41361975],\n",
       "       [3.00593239, 4.74559066, 0.69616965, 2.41361975, 3.82505541],\n",
       "       [2.02000808, 3.29656257, 0.43174569, 2.065911  , 3.07264619],\n",
       "       [2.07691001, 3.02887291, 0.53270924, 1.02482544, 1.90251125]])"
      ]
     },
     "execution_count": 39,
     "metadata": {},
     "output_type": "execute_result"
    }
   ],
   "source": [
    "def create_embedings(n, K):\n",
    "    \"\"\" Create a numpy random matrix of shape n, K\n",
    "    \n",
    "    The random matrix should be initialized with uniform values in (0, 6/K)\n",
    "    Arguments:\n",
    "    \n",
    "    Inputs:\n",
    "    n: number of items/users\n",
    "    K: number of factors in the embeding \n",
    "    \n",
    "    Returns:\n",
    "    emb: numpy array of shape (n, num_factors)\n",
    "    \"\"\"\n",
    "    np.random.seed(3)\n",
    "    emb = 6*np.random.random((n, K)) / K\n",
    "    return emb\n",
    "\n",
    "# here is an example on how the prediction matrix would look like with 7 users and 5 movies\n",
    "np.dot(create_embedings(7,3), create_embedings(5,3).transpose())"
   ]
  },
  {
   "cell_type": "markdown",
   "metadata": {
    "nbgrader": {
     "grade": false,
     "grade_id": "cell-beef892ffe04476e",
     "locked": true,
     "schema_version": 1,
     "solution": false
    }
   },
   "source": [
    "## Encoding Y as a sparse matrix\n",
    "This code helps you encode a $Y$ as a sparse matrix from the dataframe. "
   ]
  },
  {
   "cell_type": "code",
   "execution_count": 40,
   "metadata": {
    "nbgrader": {
     "grade": false,
     "grade_id": "cell-147015e836174cf4",
     "locked": true,
     "schema_version": 1,
     "solution": false
    }
   },
   "outputs": [],
   "source": [
    "from scipy import sparse\n",
    "def df2matrix(df, nrows, ncols, column_name=\"rating\"):\n",
    "    \"\"\" Returns a sparse matrix constructed from a dataframe\n",
    "    \n",
    "    This code assumes the df has columns: MovieID,UserID,Rating\n",
    "    \"\"\"\n",
    "    values = df[column_name].values\n",
    "    ind_movie = df['movieId'].values\n",
    "    ind_user = df['userId'].values\n",
    "    return sparse.csc_matrix((values,(ind_user, ind_movie)),shape=(nrows, ncols))"
   ]
  },
  {
   "cell_type": "code",
   "execution_count": 286,
   "metadata": {},
   "outputs": [],
   "source": [
    "df = pd.read_csv(\"tiny_training2.csv\")\n",
    "df, num_users, num_movies = encode_data(df)\n",
    "Y = df2matrix(df, num_users, num_movies)"
   ]
  },
  {
   "cell_type": "markdown",
   "metadata": {},
   "source": [
    "## Predicting Ratings"
   ]
  },
  {
   "cell_type": "code",
   "execution_count": 340,
   "metadata": {
    "nbgrader": {
     "grade": false,
     "grade_id": "cell-c59f98d40119c2b1",
     "locked": false,
     "schema_version": 1,
     "solution": true
    }
   },
   "outputs": [],
   "source": [
    "def predict(df, emb_user, emb_movie):\n",
    "    \"\"\" This function computes df[\"prediction\"] without doing (U*V^T).\n",
    "\n",
    "    Compute df[\"prediction\"] by using elementwise multiplication of the corresponding embeddings and then \n",
    "    sum to get the prediction u_i*v_j. This avoids creating the dense matrix U*V^T.\n",
    "    \"\"\"\n",
    "    # BEGIN SOLUTION\n",
    "    userId = df[\"userId\"].astype(int)\n",
    "    movieId = df[\"movieId\"].astype(int)\n",
    "    df[\"prediction\"] = np.sum(np.multiply(emb_user[userId], emb_movie[movieId]),axis=1)\n",
    "    # END SOLUTION\n",
    "    return df"
   ]
  },
  {
   "cell_type": "code",
   "execution_count": 341,
   "metadata": {
    "nbgrader": {
     "grade": true,
     "grade_id": "cell-7e9322939fc823ac",
     "locked": true,
     "points": 0,
     "schema_version": 1,
     "solution": false
    }
   },
   "outputs": [],
   "source": [
    "emb_user = np.ones((num_users, 3))\n",
    "emb_movie = np.ones((num_movies, 3))\n",
    "df = predict(df, emb_user, emb_movie)\n",
    "assert(df[\"prediction\"][12] == 3.0)"
   ]
  },
  {
   "cell_type": "code",
   "execution_count": 343,
   "metadata": {
    "nbgrader": {
     "grade": true,
     "grade_id": "cell-54f0a52cb61a069b",
     "locked": true,
     "points": 1,
     "schema_version": 1,
     "solution": false
    }
   },
   "outputs": [],
   "source": [
    "emb_user = create_embedings(num_users, K=4)\n",
    "emb_movie = create_embedings(num_movies, K=4)\n",
    "df = predict(df, emb_user, emb_movie)\n",
    "pred_12 = df[\"prediction\"][12]\n",
    "assert(np.around(pred_12, decimals=2)== 2.05)"
   ]
  },
  {
   "cell_type": "markdown",
   "metadata": {
    "nbgrader": {
     "grade": false,
     "grade_id": "cell-34b067092cd650f9",
     "locked": true,
     "schema_version": 1,
     "solution": false
    }
   },
   "source": [
    "## Calculating the cost function"
   ]
  },
  {
   "cell_type": "code",
   "execution_count": 344,
   "metadata": {
    "nbgrader": {
     "grade": false,
     "grade_id": "cell-e4b1d37dbcb0c405",
     "locked": false,
     "schema_version": 1,
     "solution": true
    }
   },
   "outputs": [],
   "source": [
    "# Use vectorized computation for this function. No loops!\n",
    "# Hint: use predict function\n",
    "def cost(df, emb_user, emb_movie):\n",
    "    \"\"\" Computes mean square error\n",
    "    \n",
    "    First compute prediction using the predict function.\n",
    "    Prediction for user i and movie j is emb_user[i]*emb_movie[j]\n",
    "    \n",
    "    Arguments:\n",
    "      df: dataframe with all data or a subset of the data\n",
    "      emb_user: embedings for users\n",
    "      emb_movie: embedings for movies\n",
    "      \n",
    "    Returns:\n",
    "      error(float): this is the MSE\n",
    "    \"\"\"\n",
    "    ### BEGIN SOLUTION\n",
    "    df = predict(df, emb_user, emb_movie)\n",
    "    error = np.mean(np.power(df[\"prediction\"] - df[\"rating\"], 2))\n",
    "    \n",
    "    ### END SOLUTION\n",
    "    return error"
   ]
  },
  {
   "cell_type": "code",
   "execution_count": 345,
   "metadata": {
    "nbgrader": {
     "grade": true,
     "grade_id": "cell-e7b5689049c2f45a",
     "locked": true,
     "points": 1,
     "schema_version": 1,
     "solution": false
    }
   },
   "outputs": [],
   "source": [
    "emb_user = np.ones((num_users, 3))\n",
    "emb_movie = np.ones((num_movies, 3))\n",
    "error = cost(df, emb_user, emb_movie)\n",
    "assert(np.around(error, decimals=2) == 2.23)"
   ]
  },
  {
   "cell_type": "code",
   "execution_count": 346,
   "metadata": {
    "nbgrader": {
     "grade": true,
     "grade_id": "cell-3c0b25b85e65f88b",
     "locked": true,
     "points": 1,
     "schema_version": 1,
     "solution": false
    }
   },
   "outputs": [],
   "source": [
    "emb_user = create_embedings(num_users, K=4)\n",
    "emb_movie = create_embedings(num_movies, K=4)\n",
    "error = cost(df, emb_user, emb_movie)\n",
    "assert(np.around(error, decimals=2) == 4.36)"
   ]
  },
  {
   "cell_type": "markdown",
   "metadata": {
    "nbgrader": {
     "grade": false,
     "grade_id": "cell-eecb153a5272d90a",
     "locked": true,
     "schema_version": 1,
     "solution": false
    }
   },
   "source": [
    "## Calculating gradient"
   ]
  },
  {
   "cell_type": "code",
   "execution_count": 347,
   "metadata": {
    "nbgrader": {
     "grade": false,
     "grade_id": "cell-745f5e8d9b341426",
     "locked": true,
     "schema_version": 1,
     "solution": false
    }
   },
   "outputs": [],
   "source": [
    "def finite_difference(df, emb_user, emb_movie, ind_u=None, ind_m=None, k=None):\n",
    "    \"\"\" Computes finite difference on MSE(U, V).\n",
    "    \n",
    "    This function is used for testing the gradient function. \n",
    "    \"\"\"\n",
    "    e = 0.000000001\n",
    "    c1 = cost(df, emb_user, emb_movie)\n",
    "    K = emb_user.shape[1]\n",
    "    x = np.zeros_like(emb_user)\n",
    "    y = np.zeros_like(emb_movie)\n",
    "    if ind_u is not None:\n",
    "        x[ind_u][k] = e\n",
    "    else:\n",
    "        y[ind_m][k] = e\n",
    "    c2 = cost(df, emb_user + x, emb_movie + y)\n",
    "    return (c2 - c1)/e"
   ]
  },
  {
   "cell_type": "code",
   "execution_count": 348,
   "metadata": {
    "nbgrader": {
     "grade": false,
     "grade_id": "cell-6da7b90b116a6712",
     "locked": false,
     "schema_version": 1,
     "solution": true
    }
   },
   "outputs": [],
   "source": [
    "def gradient(df, emb_user, emb_movie):\n",
    "    \"\"\" Computes the gradient.\n",
    "    \n",
    "    Hint: First compute df[\"prediction\"]. Then use df2matrix\n",
    "    to get a sparse matrix Y and Y_hat.\n",
    "    \n",
    "    Arguments:\n",
    "      df: dataframe with all data or a subset of the data\n",
    "      Y: sparse representation of df\n",
    "      emb_user: embedings for users\n",
    "      emb_movie: embedings for movies\n",
    "      \n",
    "    Returns:\n",
    "      d_emb_user\n",
    "      d_emb_movie\n",
    "    \"\"\"\n",
    "    ### BEGIN SOLUTION\n",
    "    df = predict(df, emb_user=emb_user, emb_movie=emb_movie)\n",
    "    Y = df2matrix(df, emb_user.shape[0], emb_movie.shape[0])\n",
    "    Y_hat = df2matrix(df, emb_user.shape[0], emb_movie.shape[0], column_name=\"prediction\")\n",
    "    delta = Y - Y_hat\n",
    "    N = len(df)\n",
    "    grad_user = -2/N * (delta@emb_movie)\n",
    "    grad_movie = -2/N * (delta.T@emb_user)\n",
    "    ### END SOLUTION\n",
    "    return grad_user, grad_movie"
   ]
  },
  {
   "cell_type": "code",
   "execution_count": 349,
   "metadata": {},
   "outputs": [],
   "source": [
    "K = 3\n",
    "emb_user = create_embedings(num_users, K)\n",
    "emb_movie = create_embedings(num_movies, K)\n",
    "grad_user, grad_movie = gradient(df, emb_user, emb_movie)"
   ]
  },
  {
   "cell_type": "code",
   "execution_count": 350,
   "metadata": {
    "nbgrader": {
     "grade": true,
     "grade_id": "cell-a58a216f11e292b4",
     "locked": true,
     "points": 2,
     "schema_version": 1,
     "solution": false
    }
   },
   "outputs": [],
   "source": [
    "user=1\n",
    "approx = np.array([finite_difference(df, emb_user, emb_movie, ind_u=user, k=i) for i in range(K)])\n",
    "assert(np.all(np.abs(grad_user[user] - approx) < 0.0001))"
   ]
  },
  {
   "cell_type": "code",
   "execution_count": 351,
   "metadata": {
    "nbgrader": {
     "grade": true,
     "grade_id": "cell-4d60664272f913f0",
     "locked": true,
     "points": 2,
     "schema_version": 1,
     "solution": false
    }
   },
   "outputs": [],
   "source": [
    "movie=1\n",
    "approx = np.array([finite_difference(df, emb_user, emb_movie, ind_m=movie, k=i) for i in range(K)])\n",
    "assert(np.all(np.abs(grad_movie[movie] - approx) < 0.0001))"
   ]
  },
  {
   "cell_type": "markdown",
   "metadata": {
    "nbgrader": {
     "grade": false,
     "grade_id": "cell-75a83a0a289d180c",
     "locked": true,
     "schema_version": 1,
     "solution": false
    }
   },
   "source": [
    "## Using gradient descent with momentum"
   ]
  },
  {
   "cell_type": "code",
   "execution_count": 367,
   "metadata": {
    "nbgrader": {
     "grade": false,
     "grade_id": "cell-ddc48938c215e395",
     "locked": false,
     "schema_version": 1,
     "solution": true
    }
   },
   "outputs": [],
   "source": [
    "# you can use a for loop to iterate through gradient descent\n",
    "def gradient_descent(df, emb_user, emb_movie, iterations=100, learning_rate=0.01, df_val=None):\n",
    "    \"\"\" Computes gradient descent with momentum (0.9) for a number of iterations.\n",
    "\n",
    "    Prints training cost and validation cost (if df_val is not None) every 50 iterations.\n",
    "\n",
    "    Returns:\n",
    "    emb_user: the trained user embedding\n",
    "    emb_movie: the trained movie embedding\n",
    "    \"\"\"\n",
    "    Y = df2matrix(df, emb_user.shape[0], emb_movie.shape[0])\n",
    "    # BEGIN SOLUTION\n",
    "\n",
    "    beta = 0.9\n",
    "\n",
    "    # Initialize the v and w\n",
    "    v_user, v_movie = gradient(df, emb_user, emb_movie)\n",
    "    w_user = emb_user\n",
    "    w_movie = emb_movie\n",
    "\n",
    "    # main body: iterate\n",
    "    for i in range(1, iterations+1):\n",
    "        grad_user, grad_movie = gradient(df, w_user, w_movie)\n",
    "        v_user = beta*v_user + (1-beta)*grad_user\n",
    "        v_movie = beta*v_movie + (1-beta)*grad_movie\n",
    "        w_user = w_user - learning_rate*v_user\n",
    "        w_movie = w_movie - learning_rate*v_movie\n",
    "\n",
    "        if (i % 50 == 0) and (df_val is not None):\n",
    "            training_cost = cost(df, w_user, w_movie)\n",
    "            validation_cost = cost(df_val, w_user, w_movie)\n",
    "            print(f\"GD for {i} times\", training_cost, validation_cost)\n",
    "\n",
    "    emb_user = w_user\n",
    "    emb_movie = w_movie\n",
    "    \n",
    "    # END SOLUTION\n",
    "    return emb_user, emb_movie"
   ]
  },
  {
   "cell_type": "code",
   "execution_count": 368,
   "metadata": {},
   "outputs": [],
   "source": [
    "emb_user = create_embedings(num_users, 3)\n",
    "emb_movie = create_embedings(num_movies, 3)\n",
    "emb_user, emb_movie = gradient_descent(df, emb_user, emb_movie, iterations=200, learning_rate=0.01)"
   ]
  },
  {
   "cell_type": "code",
   "execution_count": 369,
   "metadata": {
    "nbgrader": {
     "grade": true,
     "grade_id": "cell-d4f1184eccf7ebe0",
     "locked": true,
     "points": 2,
     "schema_version": 1,
     "solution": false
    }
   },
   "outputs": [],
   "source": [
    "train_mse = cost(df, emb_user, emb_movie)\n",
    "assert(np.around(train_mse, decimals=2) == 0.53)"
   ]
  },
  {
   "cell_type": "markdown",
   "metadata": {
    "nbgrader": {
     "grade": false,
     "grade_id": "cell-7b4ece4b4a308a5f",
     "locked": true,
     "schema_version": 1,
     "solution": false
    }
   },
   "source": [
    "## Predicting on new data\n",
    "Now we should write a function that given new data is able to predict ratings. First we write a function that encodes new data. If a new user or item is present that row should be remove. Collaborative Filtering is not good at handling new users or new items. To help with this task, you could write a an auxiliary function similar to `proc_col`."
   ]
  },
  {
   "cell_type": "code",
   "execution_count": 370,
   "metadata": {
    "nbgrader": {
     "grade": false,
     "grade_id": "cell-6535ac40f1132e10",
     "locked": false,
     "schema_version": 1,
     "solution": true
    }
   },
   "outputs": [],
   "source": [
    "def encode_new_data(df_val, df_train):\n",
    "    \"\"\" Encodes df_val with the same encoding as df_train.\n",
    "    Returns:\n",
    "    df_val: dataframe with the same encoding as df_train\n",
    "    \"\"\"\n",
    "    ### BEGIN SOLUTION\n",
    "    idx_u, array_u, len_u = proc_col(df_train[\"userId\"])\n",
    "    idx_m, array_m, len_m = proc_col(df_train[\"movieId\"])\n",
    "    \n",
    "    df_train = encode_data(df_train)[0]\n",
    "    array_val_u = np.array([idx_u[x] if x in idx_u.keys() else None for x in df_val[\"userId\"]])\n",
    "    array_val_m = np.array([idx_m[x] if x in idx_m.keys() else None for x in df_val[\"movieId\"]])\n",
    "    df_val[\"userId\"] = array_val_u\n",
    "    df_val[\"movieId\"] = array_val_m\n",
    "    df_val = df_val.dropna()\n",
    "    ### END SOLUTION\n",
    "    return df_val"
   ]
  },
  {
   "cell_type": "code",
   "execution_count": 356,
   "metadata": {},
   "outputs": [],
   "source": [
    "df_t = pd.read_csv(\"tiny_training2.csv\")\n",
    "df_v = pd.read_csv(\"tiny_val2.csv\")\n",
    "df_v = encode_new_data(df_v, df_t)"
   ]
  },
  {
   "cell_type": "code",
   "execution_count": 357,
   "metadata": {
    "nbgrader": {
     "grade": true,
     "grade_id": "cell-7f72f7f728540e68",
     "locked": true,
     "points": 1,
     "schema_version": 1,
     "solution": false
    }
   },
   "outputs": [],
   "source": [
    "assert(len(df_v.userId.unique())==2)"
   ]
  },
  {
   "cell_type": "code",
   "execution_count": 358,
   "metadata": {
    "nbgrader": {
     "grade": true,
     "grade_id": "cell-1b3ccc161bd551e7",
     "locked": true,
     "points": 1,
     "schema_version": 1,
     "solution": false
    }
   },
   "outputs": [],
   "source": [
    "assert(len(df_v) == 2)"
   ]
  },
  {
   "cell_type": "markdown",
   "metadata": {
    "nbgrader": {
     "grade": false,
     "grade_id": "cell-0033372e0e9accd9",
     "locked": true,
     "schema_version": 1,
     "solution": false
    }
   },
   "source": [
    "## Putting it all together\n",
    "For this part you should get data from here\n",
    "`wget http://files.grouplens.org/datasets/movielens/ml-latest-small.zip`"
   ]
  },
  {
   "cell_type": "code",
   "execution_count": 371,
   "metadata": {},
   "outputs": [
    {
     "name": "stdout",
     "output_type": "stream",
     "text": [
      "20386 19591\n"
     ]
    }
   ],
   "source": [
    "# Don't change this path use a simlink if you have the data somewhere else\n",
    "path = \"ml-latest-small/\"\n",
    "data = pd.read_csv(path + \"ratings.csv\")\n",
    "# sorting by timestamp take as validation data the most recent data doesn't work so let's just take 20%\n",
    "# at random\n",
    "np.random.seed(3)\n",
    "msk = np.random.rand(len(data)) < 0.8\n",
    "train = data[msk].copy()\n",
    "val = data[~msk].copy()\n",
    "df_train, num_users, num_movies = encode_data(train.copy())\n",
    "df_val = encode_new_data(val.copy(), train.copy())\n",
    "print(len(val), len(df_val))"
   ]
  },
  {
   "cell_type": "code",
   "execution_count": 361,
   "metadata": {},
   "outputs": [
    {
     "name": "stdout",
     "output_type": "stream",
     "text": [
      "12.066111844259689 12.154155894908106\n",
      "9.423540584309816 9.551439971806266\n",
      "6.642415798407898 6.7750849635195625\n",
      "4.776668795933097 4.901094765726285\n"
     ]
    }
   ],
   "source": [
    "K = 50\n",
    "emb_user = create_embedings(num_users, K)\n",
    "emb_movie = create_embedings(num_movies, K)\n",
    "emb_user, emb_movie = gradient_descent(df_train, emb_user, emb_movie, iterations=200, learning_rate=1, df_val=df_val)"
   ]
  },
  {
   "cell_type": "code",
   "execution_count": 362,
   "metadata": {},
   "outputs": [
    {
     "name": "stdout",
     "output_type": "stream",
     "text": [
      "3.756714365159779 3.868546473763648\n"
     ]
    }
   ],
   "source": [
    "train_mse = cost(df_train, emb_user, emb_movie)\n",
    "val_mse = cost(df_val, emb_user, emb_movie)\n",
    "print(train_mse, val_mse)"
   ]
  },
  {
   "cell_type": "markdown",
   "metadata": {},
   "source": [
    "Please check that when you run gradient descent for 2000 iterations. `val_mse` should be around 0.855"
   ]
  },
  {
   "cell_type": "code",
   "execution_count": 363,
   "metadata": {
    "nbgrader": {
     "grade": true,
     "grade_id": "cell-edcc7b88956c5e27",
     "locked": true,
     "points": 0,
     "schema_version": 1,
     "solution": false
    }
   },
   "outputs": [],
   "source": [
    "train_mse = cost(df_train, emb_user, emb_movie)\n",
    "assert(np.around(train_mse, decimals=1) == 3.8)"
   ]
  },
  {
   "cell_type": "code",
   "execution_count": 364,
   "metadata": {
    "nbgrader": {
     "grade": true,
     "grade_id": "cell-3638271e7060b741",
     "locked": false,
     "points": 2,
     "schema_version": 1,
     "solution": true
    }
   },
   "outputs": [],
   "source": [
    "val_mse = cost(df_val, emb_user, emb_movie)\n",
    "assert(np.around(val_mse, decimals=1) == 3.9)"
   ]
  },
  {
   "cell_type": "code",
   "execution_count": 372,
   "metadata": {},
   "outputs": [
    {
     "name": "stdout",
     "output_type": "stream",
     "text": [
      "GD for 50 times 2.0420569907035064 2.089546019586407\n",
      "GD for 100 times 1.6789341263553599 1.7271211278551009\n",
      "GD for 150 times 1.4856983647335988 1.5333151621234973\n",
      "GD for 200 times 1.3608828396792538 1.4079927189814037\n",
      "GD for 250 times 1.2717497698713753 1.3187234176767828\n",
      "GD for 300 times 1.2040922471012516 1.251292996111335\n",
      "GD for 350 times 1.150578312350897 1.198287869225563\n",
      "GD for 400 times 1.1069670446496327 1.1553928478240079\n",
      "GD for 450 times 1.07060376240629 1.1198981011400984\n",
      "GD for 500 times 1.0397276480430198 1.090003185871876\n",
      "GD for 550 times 1.0131178826047291 1.0644582120439947\n",
      "GD for 600 times 0.9898979800186254 1.0423646523826153\n",
      "GD for 650 times 0.9694206881145128 1.0230580811078118\n",
      "GD for 700 times 0.9511967907602755 1.0060356756998692\n",
      "GD for 750 times 0.9348492001710167 0.9909094911103419\n",
      "GD for 800 times 0.9200823169581198 0.9773752629015918\n",
      "GD for 850 times 0.9066609813473958 0.9651909470903248\n",
      "GD for 900 times 0.8943956566842799 0.9541615802847231\n",
      "GD for 950 times 0.8831317807117818 0.9441283672131268\n",
      "GD for 1000 times 0.8727419731796041 0.9349606695254946\n",
      "GD for 1050 times 0.863120242682331 0.9265500302507553\n",
      "GD for 1100 times 0.8541776186507247 0.9188056540255441\n",
      "GD for 1150 times 0.845838815734131 0.9116509457645758\n",
      "GD for 1200 times 0.8380396568440678 0.9050208301402819\n",
      "GD for 1250 times 0.83072506095314 0.8988596545336425\n",
      "GD for 1300 times 0.8238474562851645 0.8931195330673826\n",
      "GD for 1350 times 0.8173655174158385 0.8877590276036885\n",
      "GD for 1400 times 0.8112431515063969 0.8827420886576212\n",
      "GD for 1450 times 0.8054486779620085 0.8780371985897908\n",
      "GD for 1500 times 0.7999541595916343 0.8736166735336265\n",
      "GD for 1550 times 0.7947348534191028 0.8694560908575446\n",
      "GD for 1600 times 0.789768756731077 0.8655338166342755\n",
      "GD for 1650 times 0.7850362294912123 0.8618306133312938\n",
      "GD for 1700 times 0.7805196784169482 0.8583293122724296\n",
      "GD for 1750 times 0.7762032911769453 0.8550145387204048\n",
      "GD for 1800 times 0.7720728115825886 0.8518724799614756\n",
      "GD for 1850 times 0.7681153485090952 0.8488906887284567\n",
      "GD for 1900 times 0.7643192127248467 0.8460579158190127\n",
      "GD for 1950 times 0.7606737769362805 0.8433639669567612\n",
      "GD for 2000 times 0.7571693552424614 0.8407995798802064\n"
     ]
    }
   ],
   "source": [
    "emb_user, emb_movie = gradient_descent(df_train, emb_user, emb_movie, iterations=2000, learning_rate=1, df_val=df_val)"
   ]
  },
  {
   "cell_type": "code",
   "execution_count": null,
   "metadata": {},
   "outputs": [],
   "source": []
  }
 ],
 "metadata": {
  "celltoolbar": "Create Assignment",
  "kernelspec": {
   "display_name": "Python 3",
   "language": "python",
   "name": "python3"
  },
  "language_info": {
   "codemirror_mode": {
    "name": "ipython",
    "version": 3
   },
   "file_extension": ".py",
   "mimetype": "text/x-python",
   "name": "python",
   "nbconvert_exporter": "python",
   "pygments_lexer": "ipython3",
   "version": "3.7.4"
  },
  "latex_envs": {
   "bibliofile": "biblio.bib",
   "cite_by": "apalike",
   "current_citInitial": 1,
   "eqLabelWithNumbers": true,
   "eqNumInitial": 0
  },
  "toc": {
   "nav_menu": {},
   "number_sections": true,
   "sideBar": true,
   "skip_h1_title": false,
   "toc_cell": false,
   "toc_position": {},
   "toc_section_display": "block",
   "toc_window_display": false
  }
 },
 "nbformat": 4,
 "nbformat_minor": 2
}

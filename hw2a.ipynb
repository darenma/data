{
 "cells": [
  {
   "cell_type": "markdown",
   "metadata": {},
   "source": [
    "# Homework 2 part a: Logistic MF with Pytorch\n",
    "\n",
    "Given a dataset with amazon ratings of books, write a pytorch code with the following model:\n",
    "$$\\hat{y_{ij}} = sigmoid(u_i \\cdot v_j + b_i + c_j)$$\n",
    "\n",
    "This is a binary dataset (ratings are 0's or 1's). The loss function for this model is log loss or binary cross entropy.\n",
    "Also:\n",
    "* Print training loss, validation loss and validation accuracy at every training iteration.\n",
    "\n",
    "Write your code based on the notebook from the class https://github.com/yanneta/ML-notebooks/blob/master/MF_with_pytorch.ipynb"
   ]
  },
  {
   "cell_type": "code",
   "execution_count": 1,
   "metadata": {},
   "outputs": [],
   "source": [
    "from pathlib import Path\n",
    "import pandas as pd\n",
    "import numpy as np\n",
    "\n",
    "import torch\n",
    "import torch.nn as nn\n",
    "import torch.nn.functional as F\n",
    "from torch.utils.data import Dataset, DataLoader"
   ]
  },
  {
   "cell_type": "code",
   "execution_count": 5,
   "metadata": {},
   "outputs": [],
   "source": [
    "PATH = Path(\"data/\")"
   ]
  },
  {
   "cell_type": "code",
   "execution_count": 20,
   "metadata": {},
   "outputs": [],
   "source": [
    "# reading a csv into pandas\n",
    "train = pd.read_csv(PATH/\"train_books_ratings.csv\")\n",
    "valid = pd.read_csv(PATH/\"valid_books_ratings.csv\")"
   ]
  },
  {
   "cell_type": "code",
   "execution_count": 7,
   "metadata": {},
   "outputs": [
    {
     "data": {
      "text/html": [
       "<div>\n",
       "<style scoped>\n",
       "    .dataframe tbody tr th:only-of-type {\n",
       "        vertical-align: middle;\n",
       "    }\n",
       "\n",
       "    .dataframe tbody tr th {\n",
       "        vertical-align: top;\n",
       "    }\n",
       "\n",
       "    .dataframe thead th {\n",
       "        text-align: right;\n",
       "    }\n",
       "</style>\n",
       "<table border=\"1\" class=\"dataframe\">\n",
       "  <thead>\n",
       "    <tr style=\"text-align: right;\">\n",
       "      <th></th>\n",
       "      <th>user</th>\n",
       "      <th>item</th>\n",
       "      <th>rating</th>\n",
       "      <th>timestamp</th>\n",
       "    </tr>\n",
       "  </thead>\n",
       "  <tbody>\n",
       "    <tr>\n",
       "      <td>0</td>\n",
       "      <td>A2E2F4MLVYDGEQ</td>\n",
       "      <td>000100039X</td>\n",
       "      <td>0</td>\n",
       "      <td>1393286400</td>\n",
       "    </tr>\n",
       "    <tr>\n",
       "      <td>1</td>\n",
       "      <td>A386A9WE42M4PG</td>\n",
       "      <td>000100039X</td>\n",
       "      <td>0</td>\n",
       "      <td>1371772800</td>\n",
       "    </tr>\n",
       "    <tr>\n",
       "      <td>2</td>\n",
       "      <td>A1OGQA984MTKBH</td>\n",
       "      <td>000100039X</td>\n",
       "      <td>0</td>\n",
       "      <td>1372118400</td>\n",
       "    </tr>\n",
       "    <tr>\n",
       "      <td>3</td>\n",
       "      <td>A1VVBHGM8DFIZ4</td>\n",
       "      <td>000100039X</td>\n",
       "      <td>0</td>\n",
       "      <td>1387152000</td>\n",
       "    </tr>\n",
       "    <tr>\n",
       "      <td>4</td>\n",
       "      <td>AD6E4Y092Y4KP</td>\n",
       "      <td>000100039X</td>\n",
       "      <td>0</td>\n",
       "      <td>1392336000</td>\n",
       "    </tr>\n",
       "  </tbody>\n",
       "</table>\n",
       "</div>"
      ],
      "text/plain": [
       "             user        item  rating   timestamp\n",
       "0  A2E2F4MLVYDGEQ  000100039X       0  1393286400\n",
       "1  A386A9WE42M4PG  000100039X       0  1371772800\n",
       "2  A1OGQA984MTKBH  000100039X       0  1372118400\n",
       "3  A1VVBHGM8DFIZ4  000100039X       0  1387152000\n",
       "4   AD6E4Y092Y4KP  000100039X       0  1392336000"
      ]
     },
     "execution_count": 7,
     "metadata": {},
     "output_type": "execute_result"
    }
   ],
   "source": [
    "valid.head()"
   ]
  },
  {
   "cell_type": "code",
   "execution_count": 8,
   "metadata": {},
   "outputs": [
    {
     "data": {
      "text/html": [
       "<div>\n",
       "<style scoped>\n",
       "    .dataframe tbody tr th:only-of-type {\n",
       "        vertical-align: middle;\n",
       "    }\n",
       "\n",
       "    .dataframe tbody tr th {\n",
       "        vertical-align: top;\n",
       "    }\n",
       "\n",
       "    .dataframe thead th {\n",
       "        text-align: right;\n",
       "    }\n",
       "</style>\n",
       "<table border=\"1\" class=\"dataframe\">\n",
       "  <thead>\n",
       "    <tr style=\"text-align: right;\">\n",
       "      <th></th>\n",
       "      <th>user</th>\n",
       "      <th>item</th>\n",
       "      <th>rating</th>\n",
       "      <th>timestamp</th>\n",
       "    </tr>\n",
       "  </thead>\n",
       "  <tbody>\n",
       "    <tr>\n",
       "      <td>0</td>\n",
       "      <td>A2IIIDRK3PRRZY</td>\n",
       "      <td>0000000116</td>\n",
       "      <td>0</td>\n",
       "      <td>1395619200</td>\n",
       "    </tr>\n",
       "    <tr>\n",
       "      <td>1</td>\n",
       "      <td>A9KTKY6BUR8U6</td>\n",
       "      <td>0000013714</td>\n",
       "      <td>0</td>\n",
       "      <td>1357516800</td>\n",
       "    </tr>\n",
       "    <tr>\n",
       "      <td>2</td>\n",
       "      <td>A35OP02LIXZ84E</td>\n",
       "      <td>0000477141</td>\n",
       "      <td>0</td>\n",
       "      <td>1399939200</td>\n",
       "    </tr>\n",
       "    <tr>\n",
       "      <td>3</td>\n",
       "      <td>A9WX8DK93SN5</td>\n",
       "      <td>000100039X</td>\n",
       "      <td>0</td>\n",
       "      <td>1385683200</td>\n",
       "    </tr>\n",
       "    <tr>\n",
       "      <td>4</td>\n",
       "      <td>A36JQ1WC5JQPFQ</td>\n",
       "      <td>000100039X</td>\n",
       "      <td>0</td>\n",
       "      <td>1391990400</td>\n",
       "    </tr>\n",
       "  </tbody>\n",
       "</table>\n",
       "</div>"
      ],
      "text/plain": [
       "             user        item  rating   timestamp\n",
       "0  A2IIIDRK3PRRZY  0000000116       0  1395619200\n",
       "1   A9KTKY6BUR8U6  0000013714       0  1357516800\n",
       "2  A35OP02LIXZ84E  0000477141       0  1399939200\n",
       "3    A9WX8DK93SN5  000100039X       0  1385683200\n",
       "4  A36JQ1WC5JQPFQ  000100039X       0  1391990400"
      ]
     },
     "execution_count": 8,
     "metadata": {},
     "output_type": "execute_result"
    }
   ],
   "source": [
    "train.head()"
   ]
  },
  {
   "cell_type": "markdown",
   "metadata": {},
   "source": [
    "Data Pre-processing\n",
    "----"
   ]
  },
  {
   "cell_type": "code",
   "execution_count": 21,
   "metadata": {},
   "outputs": [],
   "source": [
    "# First create the index.\n",
    "train_user_ids = np.sort(np.unique(train.user.values))\n",
    "train_item_ids = np.sort(np.unique(train.item.values))\n",
    "num_users = len(train_user_ids)\n",
    "num_items = len(train_item_ids)\n",
    "user_index = {user: uid for uid, user in enumerate(train_user_ids)}\n",
    "item_index = {item: iid for iid, item in enumerate(train_item_ids)}\n",
    "train[\"user\"] = train[\"user\"].apply(lambda x: user_index[x])\n",
    "train[\"item\"] = train[\"item\"].apply(lambda x: item_index[x])\n",
    "valid[\"user\"] = valid[\"user\"].apply(lambda x: user_index.get(x, -1))\n",
    "valid[\"item\"] = valid[\"item\"].apply(lambda x: item_index.get(x, -1))\n",
    "valid = valid.loc[(valid.user>=0)&(valid.item>=0),:].copy()"
   ]
  },
  {
   "cell_type": "code",
   "execution_count": 22,
   "metadata": {},
   "outputs": [
    {
     "data": {
      "text/html": [
       "<div>\n",
       "<style scoped>\n",
       "    .dataframe tbody tr th:only-of-type {\n",
       "        vertical-align: middle;\n",
       "    }\n",
       "\n",
       "    .dataframe tbody tr th {\n",
       "        vertical-align: top;\n",
       "    }\n",
       "\n",
       "    .dataframe thead th {\n",
       "        text-align: right;\n",
       "    }\n",
       "</style>\n",
       "<table border=\"1\" class=\"dataframe\">\n",
       "  <thead>\n",
       "    <tr style=\"text-align: right;\">\n",
       "      <th></th>\n",
       "      <th>user</th>\n",
       "      <th>item</th>\n",
       "      <th>rating</th>\n",
       "      <th>timestamp</th>\n",
       "    </tr>\n",
       "  </thead>\n",
       "  <tbody>\n",
       "    <tr>\n",
       "      <td>0</td>\n",
       "      <td>527409</td>\n",
       "      <td>0</td>\n",
       "      <td>0</td>\n",
       "      <td>1395619200</td>\n",
       "    </tr>\n",
       "    <tr>\n",
       "      <td>1</td>\n",
       "      <td>1059073</td>\n",
       "      <td>1</td>\n",
       "      <td>0</td>\n",
       "      <td>1357516800</td>\n",
       "    </tr>\n",
       "    <tr>\n",
       "      <td>2</td>\n",
       "      <td>750064</td>\n",
       "      <td>2</td>\n",
       "      <td>0</td>\n",
       "      <td>1399939200</td>\n",
       "    </tr>\n",
       "    <tr>\n",
       "      <td>3</td>\n",
       "      <td>1062362</td>\n",
       "      <td>3</td>\n",
       "      <td>0</td>\n",
       "      <td>1385683200</td>\n",
       "    </tr>\n",
       "    <tr>\n",
       "      <td>4</td>\n",
       "      <td>758289</td>\n",
       "      <td>3</td>\n",
       "      <td>0</td>\n",
       "      <td>1391990400</td>\n",
       "    </tr>\n",
       "  </tbody>\n",
       "</table>\n",
       "</div>"
      ],
      "text/plain": [
       "      user  item  rating   timestamp\n",
       "0   527409     0       0  1395619200\n",
       "1  1059073     1       0  1357516800\n",
       "2   750064     2       0  1399939200\n",
       "3  1062362     3       0  1385683200\n",
       "4   758289     3       0  1391990400"
      ]
     },
     "execution_count": 22,
     "metadata": {},
     "output_type": "execute_result"
    }
   ],
   "source": [
    "train.head()"
   ]
  },
  {
   "cell_type": "code",
   "execution_count": 24,
   "metadata": {},
   "outputs": [
    {
     "data": {
      "text/html": [
       "<div>\n",
       "<style scoped>\n",
       "    .dataframe tbody tr th:only-of-type {\n",
       "        vertical-align: middle;\n",
       "    }\n",
       "\n",
       "    .dataframe tbody tr th {\n",
       "        vertical-align: top;\n",
       "    }\n",
       "\n",
       "    .dataframe thead th {\n",
       "        text-align: right;\n",
       "    }\n",
       "</style>\n",
       "<table border=\"1\" class=\"dataframe\">\n",
       "  <thead>\n",
       "    <tr style=\"text-align: right;\">\n",
       "      <th></th>\n",
       "      <th>user</th>\n",
       "      <th>item</th>\n",
       "      <th>rating</th>\n",
       "      <th>timestamp</th>\n",
       "    </tr>\n",
       "  </thead>\n",
       "  <tbody>\n",
       "    <tr>\n",
       "      <td>4</td>\n",
       "      <td>1093526</td>\n",
       "      <td>3</td>\n",
       "      <td>0</td>\n",
       "      <td>1392336000</td>\n",
       "    </tr>\n",
       "    <tr>\n",
       "      <td>5</td>\n",
       "      <td>1172263</td>\n",
       "      <td>3</td>\n",
       "      <td>0</td>\n",
       "      <td>1022025600</td>\n",
       "    </tr>\n",
       "    <tr>\n",
       "      <td>6</td>\n",
       "      <td>1114879</td>\n",
       "      <td>13</td>\n",
       "      <td>0</td>\n",
       "      <td>1277337600</td>\n",
       "    </tr>\n",
       "    <tr>\n",
       "      <td>19</td>\n",
       "      <td>6532</td>\n",
       "      <td>34</td>\n",
       "      <td>0</td>\n",
       "      <td>1336867200</td>\n",
       "    </tr>\n",
       "    <tr>\n",
       "      <td>24</td>\n",
       "      <td>416115</td>\n",
       "      <td>34</td>\n",
       "      <td>0</td>\n",
       "      <td>1390176000</td>\n",
       "    </tr>\n",
       "  </tbody>\n",
       "</table>\n",
       "</div>"
      ],
      "text/plain": [
       "       user  item  rating   timestamp\n",
       "4   1093526     3       0  1392336000\n",
       "5   1172263     3       0  1022025600\n",
       "6   1114879    13       0  1277337600\n",
       "19     6532    34       0  1336867200\n",
       "24   416115    34       0  1390176000"
      ]
     },
     "execution_count": 24,
     "metadata": {},
     "output_type": "execute_result"
    }
   ],
   "source": [
    "valid.head()"
   ]
  },
  {
   "cell_type": "code",
   "execution_count": 28,
   "metadata": {},
   "outputs": [
    {
     "name": "stdout",
     "output_type": "stream",
     "text": [
      "(1787557, 4)        (131657, 4)\n",
      "1312778        659279\n"
     ]
    }
   ],
   "source": [
    "print(train.shape, \"      \", valid.shape)\n",
    "print(num_users, \"      \", num_items)"
   ]
  },
  {
   "cell_type": "markdown",
   "metadata": {},
   "source": [
    "Model\n",
    "----"
   ]
  },
  {
   "cell_type": "code",
   "execution_count": 47,
   "metadata": {},
   "outputs": [],
   "source": [
    "class MF_bias(nn.Module):\n",
    "    def __init__(self, num_users, num_items, emb_size=100):\n",
    "        super(MF_bias, self).__init__()\n",
    "        self.user_emb = nn.Embedding(num_users, emb_size)\n",
    "        self.user_bias = nn.Embedding(num_users, 1)\n",
    "        self.item_emb = nn.Embedding(num_items, emb_size)\n",
    "        self.item_bias = nn.Embedding(num_items, 1)\n",
    "        # init \n",
    "        self.user_emb.weight.data.uniform_(0,0.05)\n",
    "        self.item_emb.weight.data.uniform_(0,0.05)\n",
    "        self.user_bias.weight.data.uniform_(-0.01,0.01)\n",
    "        self.item_bias.weight.data.uniform_(-0.01,0.01)\n",
    "        \n",
    "    def forward(self, u, v):\n",
    "        U = self.user_emb(u)\n",
    "        V = self.item_emb(v)\n",
    "        b_u = self.user_bias(u).squeeze()\n",
    "        b_v = self.item_bias(v).squeeze()\n",
    "        return (U*V).sum(1) +  b_u  + b_v"
   ]
  },
  {
   "cell_type": "code",
   "execution_count": 52,
   "metadata": {},
   "outputs": [],
   "source": [
    "def train_epocs(model, epochs=10, lr=0.01, wd=0.0):\n",
    "    optimizer = torch.optim.Adam(model.parameters(), lr=lr, weight_decay=wd)\n",
    "    for i in range(epochs):\n",
    "        model.train()\n",
    "        users = torch.LongTensor(train.user.values)  #.cuda()\n",
    "        items = torch.LongTensor(train.item.values) #.cuda()\n",
    "        ratings = torch.FloatTensor(train.rating.values)  #.cuda()\n",
    "        ###\n",
    "        y_hat = F.sigmoid(model(users, items))\n",
    "        ###\n",
    "        loss = F.binary_cross_entropy(y_hat, ratings)\n",
    "        optimizer.zero_grad()\n",
    "        loss.backward()\n",
    "        optimizer.step()\n",
    "        testloss = valid_loss(model)\n",
    "        print(\"train loss %.3f valid loss %.3f\" % (loss.item(), testloss))"
   ]
  },
  {
   "cell_type": "code",
   "execution_count": 53,
   "metadata": {},
   "outputs": [],
   "source": [
    "def valid_loss(model):\n",
    "    \"\"\"calculate the validation loss of the model\"\"\"\n",
    "    model.eval()\n",
    "    users = torch.LongTensor(valid.user.values) # .cuda()\n",
    "    items = torch.LongTensor(valid.item.values) #.cuda()\n",
    "    ratings = torch.FloatTensor(valid.rating.values) #.cuda()\n",
    "    y_hat = F.sigmoid(model(users, items))\n",
    "    loss = F.binary_cross_entropy(y_hat, ratings)\n",
    "    return loss.item()"
   ]
  },
  {
   "cell_type": "code",
   "execution_count": 54,
   "metadata": {},
   "outputs": [],
   "source": [
    "model = MatrixFactorization(num_users, num_items, emb_size=100)"
   ]
  },
  {
   "cell_type": "code",
   "execution_count": 55,
   "metadata": {},
   "outputs": [
    {
     "name": "stderr",
     "output_type": "stream",
     "text": [
      "/Users/darenma/opt/anaconda3/lib/python3.7/site-packages/torch/nn/functional.py:1351: UserWarning: nn.functional.sigmoid is deprecated. Use torch.sigmoid instead.\n",
      "  warnings.warn(\"nn.functional.sigmoid is deprecated. Use torch.sigmoid instead.\")\n"
     ]
    },
    {
     "name": "stdout",
     "output_type": "stream",
     "text": [
      "train loss 0.696 valid loss 0.770\n",
      "train loss 0.748 valid loss 0.698\n",
      "train loss 0.696 valid loss 0.704\n",
      "train loss 0.701 valid loss 0.728\n",
      "train loss 0.720 valid loss 0.712\n",
      "train loss 0.702 valid loss 0.695\n",
      "train loss 0.688 valid loss 0.696\n",
      "train loss 0.691 valid loss 0.706\n",
      "train loss 0.693 valid loss 0.706\n",
      "train loss 0.692 valid loss 0.698\n",
      "train loss 0.691 valid loss 0.694\n",
      "train loss 0.697 valid loss 0.696\n",
      "train loss 0.691 valid loss 0.701\n",
      "train loss 0.699 valid loss 0.700\n",
      "train loss 0.698 valid loss 0.695\n",
      "train loss 0.688 valid loss 0.694\n",
      "train loss 0.697 valid loss 0.694\n",
      "train loss 0.687 valid loss 0.696\n",
      "train loss 0.690 valid loss 0.696\n",
      "train loss 0.690 valid loss 0.694\n"
     ]
    }
   ],
   "source": [
    "train_epocs(model, epochs=20, lr=0.18, wd=1e-5)"
   ]
  },
  {
   "cell_type": "code",
   "execution_count": 56,
   "metadata": {},
   "outputs": [
    {
     "name": "stdout",
     "output_type": "stream",
     "text": [
      "train loss 0.686 valid loss 1.154\n",
      "train loss 1.064 valid loss 0.699\n",
      "train loss 0.691 valid loss 0.776\n",
      "train loss 0.752 valid loss 0.904\n",
      "train loss 0.840 valid loss 0.780\n",
      "train loss 0.741 valid loss 0.699\n",
      "train loss 0.688 valid loss 0.697\n",
      "train loss 0.691 valid loss 0.733\n",
      "train loss 0.714 valid loss 0.746\n",
      "train loss 0.718 valid loss 0.717\n",
      "train loss 0.693 valid loss 0.696\n",
      "train loss 0.685 valid loss 0.695\n",
      "train loss 0.694 valid loss 0.706\n",
      "train loss 0.702 valid loss 0.713\n",
      "train loss 0.696 valid loss 0.706\n",
      "train loss 0.693 valid loss 0.696\n",
      "train loss 0.686 valid loss 0.693\n",
      "train loss 0.697 valid loss 0.697\n",
      "train loss 0.695 valid loss 0.702\n",
      "train loss 0.693 valid loss 0.701\n"
     ]
    }
   ],
   "source": [
    "train_epocs(model, epochs=20, lr=0.18, wd=1e-5)"
   ]
  },
  {
   "cell_type": "code",
   "execution_count": null,
   "metadata": {},
   "outputs": [],
   "source": []
  }
 ],
 "metadata": {
  "kernelspec": {
   "display_name": "Python 3",
   "language": "python",
   "name": "python3"
  },
  "language_info": {
   "codemirror_mode": {
    "name": "ipython",
    "version": 3
   },
   "file_extension": ".py",
   "mimetype": "text/x-python",
   "name": "python",
   "nbconvert_exporter": "python",
   "pygments_lexer": "ipython3",
   "version": "3.7.4"
  },
  "toc": {
   "nav_menu": {},
   "number_sections": true,
   "sideBar": true,
   "skip_h1_title": false,
   "toc_cell": false,
   "toc_position": {},
   "toc_section_display": "block",
   "toc_window_display": false
  }
 },
 "nbformat": 4,
 "nbformat_minor": 2
}

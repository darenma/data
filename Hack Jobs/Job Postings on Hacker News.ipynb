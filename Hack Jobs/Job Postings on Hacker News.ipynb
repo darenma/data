{
 "cells": [
  {
   "cell_type": "markdown",
   "metadata": {},
   "source": [
    "## The purpose of this notebook is to mimic the HN posting website https://hnhired.com/ using simple data acquisition skills."
   ]
  },
  {
   "cell_type": "code",
   "execution_count": 1,
   "metadata": {},
   "outputs": [],
   "source": [
    "import requests\n",
    "import pandas as pd\n",
    "from bs4 import BeautifulSoup\n",
    "from IPython.core.display import HTML"
   ]
  },
  {
   "cell_type": "code",
   "execution_count": 2,
   "metadata": {},
   "outputs": [],
   "source": [
    "# Go to this who's hirng in May website to scrape the data/\n",
    "url = \"https://news.ycombinator.com/item?id=23042618\"\n",
    "r = requests.get(url)"
   ]
  },
  {
   "cell_type": "code",
   "execution_count": 3,
   "metadata": {},
   "outputs": [],
   "source": [
    "# Use BeautifulSoup to find the headlines of HackerNews.\n",
    "soup = BeautifulSoup(r.text)\n",
    "global headlines\n",
    "headlines = soup.find_all(attrs={\"class\":'commtext c00'})"
   ]
  },
  {
   "cell_type": "markdown",
   "metadata": {},
   "source": [
    "### Advanced Search."
   ]
  },
  {
   "cell_type": "markdown",
   "metadata": {},
   "source": [
    "If we want to see all the job posting related to some specific topic, we can use the following wrapper function to search for those."
   ]
  },
  {
   "cell_type": "code",
   "execution_count": 5,
   "metadata": {},
   "outputs": [],
   "source": [
    "# What kind of job do you like?\n",
    "# Fill in stuff you care like location, industry or 401k.\n",
    "\n",
    "\n",
    "def contains_targets(head, targets:list)->bool:\n",
    "    # Because all the job postings have this divider.\n",
    "    if \"|\" not in head:\n",
    "        return False\n",
    "    for t in targets:\n",
    "        if (t.lower() in head.lower()):\n",
    "            return True\n",
    "    return False\n",
    "\n",
    "\n",
    "def keyword_search(targets)->list:\n",
    "    return [head for head in headlines if contains_targets(head.text, targets)]"
   ]
  },
  {
   "cell_type": "code",
   "execution_count": 9,
   "metadata": {},
   "outputs": [],
   "source": [
    "# Fill your targets here.\n",
    "targets = [\"data scientist\"]"
   ]
  },
  {
   "cell_type": "code",
   "execution_count": 10,
   "metadata": {},
   "outputs": [
    {
     "name": "stdout",
     "output_type": "stream",
     "text": [
      "12\n"
     ]
    }
   ],
   "source": [
    "job_postings = keyword_search(targets)\n",
    "print(len(job_postings))"
   ]
  },
  {
   "cell_type": "code",
   "execution_count": 11,
   "metadata": {
    "scrolled": true
   },
   "outputs": [
    {
     "data": {
      "text/html": [
       "<span class=\"commtext c00\">\n",
       " Course Hero | Redwood City, CA | Various Engineering, Product, Design roles | Full-time, Onsite |\n",
       " <a href=\"https://grnh.se/2ywlpf\" rel=\"nofollow\">\n",
       "  https://grnh.se/2ywlpf\n",
       " </a>\n",
       " <p>\n",
       "  Course Hero is an online learning platform where students can access over 40 million course-specific study resources contributed by a community of educators and other students. We envision a world where every student graduates, confident and prepared.\n",
       " </p>\n",
       " <p>\n",
       "  Course Hero has been recognized as the 278th Fastest Growing Company in North America on Deloitte's 2019 Technology Fast 500, and also 2019’s One of the Best Places to Work in the Bay Area. We are in a hyper-growth mode and are actively hiring across the board!\n",
       " </p>\n",
       " <p>\n",
       "  Our tech stack: React, Typescript, Sass, Go, Python\n",
       " </p>\n",
       " <p>\n",
       "  We are hiring for the following roles:\n",
       " </p>\n",
       " <p>\n",
       "  - Senior/Staff/Lead Software Engineers, front end (5+ YOE)\n",
       " </p>\n",
       " <p>\n",
       "  - Senior Machine Learning Engineers (5+ YOE)\n",
       " </p>\n",
       " <p>\n",
       "  - Senior Data Analysts (3+ YOE)\n",
       " </p>\n",
       " <p>\n",
       "  - Senior Data Scientists (3+ YOE)\n",
       " </p>\n",
       " <p>\n",
       "  Come join us on our journey to help invent the future of student learning! Feel free to reach out to me directly if you want to chat about the front-end roles - my contact info is in my profile.\n",
       " </p>\n",
       "</span>\n"
      ],
      "text/plain": [
       "<IPython.core.display.HTML object>"
      ]
     },
     "execution_count": 11,
     "metadata": {},
     "output_type": "execute_result"
    }
   ],
   "source": [
    "HTML(job_postings[0].prettify())"
   ]
  },
  {
   "cell_type": "code",
   "execution_count": null,
   "metadata": {},
   "outputs": [],
   "source": []
  }
 ],
 "metadata": {
  "kernelspec": {
   "display_name": "Python 3",
   "language": "python",
   "name": "python3"
  },
  "language_info": {
   "codemirror_mode": {
    "name": "ipython",
    "version": 3
   },
   "file_extension": ".py",
   "mimetype": "text/x-python",
   "name": "python",
   "nbconvert_exporter": "python",
   "pygments_lexer": "ipython3",
   "version": "3.7.4"
  }
 },
 "nbformat": 4,
 "nbformat_minor": 2
}

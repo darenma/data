{
 "cells": [
  {
   "cell_type": "markdown",
   "metadata": {
    "nbgrader": {
     "grade": false,
     "grade_id": "cell-7bb7f8506dfae415",
     "locked": true,
     "schema_version": 1,
     "solution": false
    }
   },
   "source": [
    "# Homework 2 part b\n",
    "**Instructions:**\n",
    "- Submit your code to github by the deadline.\n",
    "- DO NOT change paths (-3 points).\n",
    "- DO NOT submit data to github (-2 points)."
   ]
  },
  {
   "cell_type": "code",
   "execution_count": 1,
   "metadata": {
    "nbgrader": {
     "grade": false,
     "grade_id": "cell-963eb775c60d3928",
     "locked": true,
     "schema_version": 1,
     "solution": false
    }
   },
   "outputs": [],
   "source": [
    "import numpy as np\n",
    "import pandas as pd\n",
    "from pathlib import Path"
   ]
  },
  {
   "cell_type": "markdown",
   "metadata": {
    "nbgrader": {
     "grade": false,
     "grade_id": "cell-4c6cc62f82ecc43c",
     "locked": true,
     "schema_version": 1,
     "solution": false
    }
   },
   "source": [
    "## Problem 1: log loss (3 points)\n",
    "**(a)** You have a classification problem with 3 classes: \"cat\", \"dog\", \"bird\". For your test observation is a \"dog\". Your model give you the following prediction for that observation (0.1, 0.5, 0.4). What is the accuracy? What is the log loss?\n",
    "\n",
    "**(b)** Suppose that you are submitting to a Kaggle competition. You are solving a binary classification task being evaluated by log loss metric. You suspect train and test target distributions are different, you submit a constant predition of 0.3 and to the public LB and get a score of 1.01. Mean of target variable in train is 0.44. What is the mean of target variable in public part of test data? Explain how you derive the results.\n",
    "\n",
    "**(c)** You have a set of images that are tagged with labels. Each image may be tagged with more than one label. You have a total of 4 labels. Here is the soft prediction for one of your test images (0.1, 0.9, 0.8, 0.3). What is the hard prediction if you are using a threshold of 0.7? What is the loss if your real label is (0, 1, 0, 0)?"
   ]
  },
  {
   "cell_type": "markdown",
   "metadata": {},
   "source": [
    "# here your code and your solution\n",
    "### a \n",
    "The accuracy is 1.\n",
    "\n",
    "The log loss = $-log(1-0.5) = 0.6931$"
   ]
  },
  {
   "cell_type": "markdown",
   "metadata": {},
   "source": [
    "#### b\n",
    "Denote the mean of test data as $m$\n",
    "\n",
    "then we have $N\\cdot m$ 1s and $N\\cdot{(1- m)}$ 0s in the test data.\n",
    "\n",
    "${logloss} = -\\frac{1}{N} \\cdot{\\sum_{y_i=0}}log(1-0.3)-\\frac{1}{N} \\cdot{\\sum_{y_i=1}}log(0.3) = 1.01 $\n",
    "\n",
    "$-(1-m) \\cdot log(0.7) - m \\cdot log(0.3) = 1.01$\n",
    "\n",
    "$m = 0.771067$\n",
    "\n",
    "Therefore, the distribution of the test data are different from the training data."
   ]
  },
  {
   "cell_type": "markdown",
   "metadata": {},
   "source": [
    "#### c\n",
    "The hard prediction is (0, 1, 1, 1)\n",
    "\n",
    "The log loss is \n",
    "\n",
    "$\\frac {log(1-0.1) + log(0.9) + log(1-0.8) + log(1-0.3)}{-4} = 0.544$"
   ]
  },
  {
   "cell_type": "markdown",
   "metadata": {
    "nbgrader": {
     "grade": false,
     "grade_id": "cell-9aed1b87140d15c7",
     "locked": true,
     "schema_version": 1,
     "solution": false
    }
   },
   "source": [
    "## Problem 2: AUC (2 points)\n",
    "Compute AUC score by hand with the formula explained in class for the following dataset."
   ]
  },
  {
   "cell_type": "code",
   "execution_count": 2,
   "metadata": {
    "nbgrader": {
     "grade": false,
     "grade_id": "cell-d54a5c5492c74c18",
     "locked": true,
     "schema_version": 1,
     "solution": false
    }
   },
   "outputs": [
    {
     "data": {
      "text/html": [
       "<div>\n",
       "<style scoped>\n",
       "    .dataframe tbody tr th:only-of-type {\n",
       "        vertical-align: middle;\n",
       "    }\n",
       "\n",
       "    .dataframe tbody tr th {\n",
       "        vertical-align: top;\n",
       "    }\n",
       "\n",
       "    .dataframe thead th {\n",
       "        text-align: right;\n",
       "    }\n",
       "</style>\n",
       "<table border=\"1\" class=\"dataframe\">\n",
       "  <thead>\n",
       "    <tr style=\"text-align: right;\">\n",
       "      <th></th>\n",
       "      <th>prediction</th>\n",
       "      <th>y</th>\n",
       "    </tr>\n",
       "  </thead>\n",
       "  <tbody>\n",
       "    <tr>\n",
       "      <td>0</td>\n",
       "      <td>0.10</td>\n",
       "      <td>1</td>\n",
       "    </tr>\n",
       "    <tr>\n",
       "      <td>1</td>\n",
       "      <td>0.50</td>\n",
       "      <td>0</td>\n",
       "    </tr>\n",
       "    <tr>\n",
       "      <td>2</td>\n",
       "      <td>0.95</td>\n",
       "      <td>1</td>\n",
       "    </tr>\n",
       "    <tr>\n",
       "      <td>3</td>\n",
       "      <td>0.99</td>\n",
       "      <td>1</td>\n",
       "    </tr>\n",
       "    <tr>\n",
       "      <td>4</td>\n",
       "      <td>0.80</td>\n",
       "      <td>1</td>\n",
       "    </tr>\n",
       "    <tr>\n",
       "      <td>5</td>\n",
       "      <td>0.40</td>\n",
       "      <td>1</td>\n",
       "    </tr>\n",
       "    <tr>\n",
       "      <td>6</td>\n",
       "      <td>0.03</td>\n",
       "      <td>0</td>\n",
       "    </tr>\n",
       "    <tr>\n",
       "      <td>7</td>\n",
       "      <td>0.44</td>\n",
       "      <td>0</td>\n",
       "    </tr>\n",
       "    <tr>\n",
       "      <td>8</td>\n",
       "      <td>0.20</td>\n",
       "      <td>0</td>\n",
       "    </tr>\n",
       "  </tbody>\n",
       "</table>\n",
       "</div>"
      ],
      "text/plain": [
       "   prediction  y\n",
       "0        0.10  1\n",
       "1        0.50  0\n",
       "2        0.95  1\n",
       "3        0.99  1\n",
       "4        0.80  1\n",
       "5        0.40  1\n",
       "6        0.03  0\n",
       "7        0.44  0\n",
       "8        0.20  0"
      ]
     },
     "execution_count": 2,
     "metadata": {},
     "output_type": "execute_result"
    }
   ],
   "source": [
    "d = pd.DataFrame({\n",
    "        'prediction': [0.1, 0.5, 0.95, 0.99, 0.8, 0.4, 0.03, 0.44, 0.2],\n",
    "        'y': [1, 0, 1, 1, 1, 1, 0, 0, 0]})\n",
    "d"
   ]
  },
  {
   "cell_type": "code",
   "execution_count": 3,
   "metadata": {},
   "outputs": [
    {
     "data": {
      "text/html": [
       "<div>\n",
       "<style scoped>\n",
       "    .dataframe tbody tr th:only-of-type {\n",
       "        vertical-align: middle;\n",
       "    }\n",
       "\n",
       "    .dataframe tbody tr th {\n",
       "        vertical-align: top;\n",
       "    }\n",
       "\n",
       "    .dataframe thead th {\n",
       "        text-align: right;\n",
       "    }\n",
       "</style>\n",
       "<table border=\"1\" class=\"dataframe\">\n",
       "  <thead>\n",
       "    <tr style=\"text-align: right;\">\n",
       "      <th></th>\n",
       "      <th>prediction</th>\n",
       "      <th>y</th>\n",
       "    </tr>\n",
       "  </thead>\n",
       "  <tbody>\n",
       "    <tr>\n",
       "      <td>6</td>\n",
       "      <td>0.03</td>\n",
       "      <td>0</td>\n",
       "    </tr>\n",
       "    <tr>\n",
       "      <td>0</td>\n",
       "      <td>0.10</td>\n",
       "      <td>1</td>\n",
       "    </tr>\n",
       "    <tr>\n",
       "      <td>8</td>\n",
       "      <td>0.20</td>\n",
       "      <td>0</td>\n",
       "    </tr>\n",
       "    <tr>\n",
       "      <td>5</td>\n",
       "      <td>0.40</td>\n",
       "      <td>1</td>\n",
       "    </tr>\n",
       "    <tr>\n",
       "      <td>7</td>\n",
       "      <td>0.44</td>\n",
       "      <td>0</td>\n",
       "    </tr>\n",
       "    <tr>\n",
       "      <td>1</td>\n",
       "      <td>0.50</td>\n",
       "      <td>0</td>\n",
       "    </tr>\n",
       "    <tr>\n",
       "      <td>4</td>\n",
       "      <td>0.80</td>\n",
       "      <td>1</td>\n",
       "    </tr>\n",
       "    <tr>\n",
       "      <td>2</td>\n",
       "      <td>0.95</td>\n",
       "      <td>1</td>\n",
       "    </tr>\n",
       "    <tr>\n",
       "      <td>3</td>\n",
       "      <td>0.99</td>\n",
       "      <td>1</td>\n",
       "    </tr>\n",
       "  </tbody>\n",
       "</table>\n",
       "</div>"
      ],
      "text/plain": [
       "   prediction  y\n",
       "6        0.03  0\n",
       "0        0.10  1\n",
       "8        0.20  0\n",
       "5        0.40  1\n",
       "7        0.44  0\n",
       "1        0.50  0\n",
       "4        0.80  1\n",
       "2        0.95  1\n",
       "3        0.99  1"
      ]
     },
     "execution_count": 3,
     "metadata": {},
     "output_type": "execute_result"
    }
   ],
   "source": [
    "# your solution here\n",
    "d = d.sort_values(by='prediction')\n",
    "d"
   ]
  },
  {
   "cell_type": "markdown",
   "metadata": {},
   "source": [
    "There are $4 \\times 5 = 20$ pairs, among which there are $3+2=5$ pairs in the incorrect order.\n",
    "\n",
    "Therefore, AUC = $(20 - 5)/20 = 0.75$"
   ]
  },
  {
   "cell_type": "markdown",
   "metadata": {
    "nbgrader": {
     "grade": false,
     "grade_id": "cell-cc56ff567f83c54c",
     "locked": true,
     "schema_version": 1,
     "solution": false
    }
   },
   "source": [
    "## Problem 3: Regularized mean (target) encoding for Avazu competition (8 points)\n",
    "\n",
    "For this problem you will implement a version of regularized mean encoding. We will be using the data on this Kaggle [compettion](https://www.kaggle.com/c/avazu-ctr-prediction). You can use the kaggle api (install first). \n",
    "\n",
    "`kaggle competitions download -c avazu-ctr-prediction`\n",
    "\n",
    "**Instructions:**\n",
    "- Split data (training) into training and validation. Take the lastest (most recent data) of training set as validation.\n",
    "- Implement regularized mean encoding for the training set using pandas.\n",
    "- Implement mean encoding for the validation set"
   ]
  },
  {
   "cell_type": "code",
   "execution_count": 82,
   "metadata": {},
   "outputs": [],
   "source": [
    "## Split train and validation \n",
    "# get sample data first\n",
    "PATH = Path(\"avazu-ctr-prediction\")\n",
    "!head -100000 $PATH/train > $PATH/train_sample.csv\n",
    "!head -100000 $PATH/test > $PATH/test_sample.csv\n",
    "data = pd.read_csv(PATH/\"train_sample.csv\")\n",
    "test = pd.read_csv(PATH/\"test_sample.csv\")"
   ]
  },
  {
   "cell_type": "code",
   "execution_count": 83,
   "metadata": {
    "nbgrader": {
     "grade": false,
     "grade_id": "cell-3247c5546454354b",
     "locked": true,
     "schema_version": 1,
     "solution": false
    }
   },
   "outputs": [],
   "source": [
    "def split_based_hour(data):\n",
    "    \"\"\" Split data based on column hour.\n",
    "    \n",
    "    Use 20% of the date for validation.\n",
    "    Inputs:\n",
    "       data: dataframe from avazu\n",
    "    Returns:\n",
    "       train:\n",
    "       val: 20% of the largest values of column \"hour\".\n",
    "    \"\"\"\n",
    "    N = int(0.8*len(data))\n",
    "    data = data.sort_values(by=\"hour\")\n",
    "    train = data[:N].copy()\n",
    "    val = data[N:].copy()\n",
    "    return train.reset_index(), val.reset_index()\n",
    "train, val = split_based_hour(data)"
   ]
  },
  {
   "cell_type": "markdown",
   "metadata": {
    "nbgrader": {
     "grade": false,
     "grade_id": "cell-452970eca3e65752",
     "locked": true,
     "schema_version": 1,
     "solution": false
    }
   },
   "source": [
    "### Regularized mean encoding \n",
    "Here is how you do mean encoding without regularization."
   ]
  },
  {
   "cell_type": "code",
   "execution_count": 84,
   "metadata": {
    "nbgrader": {
     "grade": false,
     "grade_id": "cell-77c4b82107ebcc48",
     "locked": true,
     "schema_version": 1,
     "solution": false
    }
   },
   "outputs": [
    {
     "data": {
      "text/plain": [
       "device_type\n",
       "0    0.224277\n",
       "1    0.176116\n",
       "4    0.069777\n",
       "5    0.083333\n",
       "Name: click, dtype: float64"
      ]
     },
     "execution_count": 84,
     "metadata": {},
     "output_type": "execute_result"
    }
   ],
   "source": [
    "# Calculate a mapping: {device_type: click_mean}\n",
    "mean_device_type = train.groupby('device_type').click.mean()\n",
    "mean_device_type"
   ]
  },
  {
   "cell_type": "code",
   "execution_count": 85,
   "metadata": {
    "nbgrader": {
     "grade": false,
     "grade_id": "cell-ed1cc1dcf31b6592",
     "locked": true,
     "schema_version": 1,
     "solution": false
    }
   },
   "outputs": [
    {
     "data": {
      "text/plain": [
       "0.17477718471480894"
      ]
     },
     "execution_count": 85,
     "metadata": {},
     "output_type": "execute_result"
    }
   ],
   "source": [
    "# This is the global click mean\n",
    "global_mean = train.click.mean()\n",
    "global_mean"
   ]
  },
  {
   "cell_type": "code",
   "execution_count": 86,
   "metadata": {
    "nbgrader": {
     "grade": false,
     "grade_id": "cell-b18e26077498e310",
     "locked": true,
     "schema_version": 1,
     "solution": false
    }
   },
   "outputs": [],
   "source": [
    "train[\"device_type_mean_enc\"] = train[\"device_type\"].map(mean_device_type)\n",
    "val[\"device_type_mean_enc\"] = val[\"device_type\"].map(mean_device_type)"
   ]
  },
  {
   "cell_type": "code",
   "execution_count": 87,
   "metadata": {
    "nbgrader": {
     "grade": false,
     "grade_id": "cell-3738c83f6ed83558",
     "locked": true,
     "schema_version": 1,
     "solution": false
    }
   },
   "outputs": [],
   "source": [
    "train[\"device_type_mean_enc\"].fillna(global_mean, inplace=True)\n",
    "val[\"device_type_mean_enc\"].fillna(global_mean, inplace=True)"
   ]
  },
  {
   "cell_type": "code",
   "execution_count": 88,
   "metadata": {
    "nbgrader": {
     "grade": false,
     "grade_id": "cell-a02b93e0e675fcfc",
     "locked": true,
     "schema_version": 1,
     "solution": false
    }
   },
   "outputs": [
    {
     "name": "stdout",
     "output_type": "stream",
     "text": [
      "0.0530389229998215\n"
     ]
    }
   ],
   "source": [
    "# Print correlation\n",
    "encoded_feature = val[\"device_type_mean_enc\"].values\n",
    "print(np.corrcoef(val[\"click\"].values, encoded_feature)[0][1])"
   ]
  },
  {
   "cell_type": "markdown",
   "metadata": {
    "nbgrader": {
     "grade": false,
     "grade_id": "cell-bcfd0241d1bbc117",
     "locked": true,
     "schema_version": 1,
     "solution": false
    }
   },
   "source": [
    "To do mean encoding with K-fold regularization you do the following:\n",
    "\n",
    "* Run a 5-fold split on train data where `mean_device_type` is computed on 4/5 of the data and the encoding is computed on the other 1/5.\n",
    "* To compute mean encoding on the validation data use the code similar to encoding without regularization. That is compute on all the training data and apply to the validation set."
   ]
  },
  {
   "cell_type": "code",
   "execution_count": 93,
   "metadata": {
    "nbgrader": {
     "grade": false,
     "grade_id": "cell-775e47f5b0194cbe",
     "locked": false,
     "schema_version": 1,
     "solution": true
    }
   },
   "outputs": [],
   "source": [
    "from sklearn.model_selection import KFold\n",
    "\n",
    "def reg_target_encoding(train, col = \"device_type\", splits=5):\n",
    "    \"\"\" Computes regularize mean encoding.\n",
    "    Inputs:\n",
    "       train: training dataframe\n",
    "       \n",
    "    \"\"\"\n",
    "    ### BEGIN SOLUTION\n",
    "    name_new = col+\"_mean_enc\"\n",
    "    kf = KFold(n_splits=splits)\n",
    "    for train_index, valid_index in kf.split(train):\n",
    "        X_train, X_valid = train.loc[train_index,:], train.loc[valid_index,:]    \n",
    "        mean_col_value = X_train.groupby(col).click.mean()\n",
    "        global_mean = X_train.click.mean()\n",
    "        # renew the value\n",
    "        train.loc[valid_index,name_new] = train.loc[valid_index,][col].map(mean_col_value)\n",
    "        train.loc[valid_index,name_new].fillna(global_mean, inplace=True)\n",
    "    ### END SOLUTION"
   ]
  },
  {
   "cell_type": "code",
   "execution_count": 94,
   "metadata": {
    "nbgrader": {
     "grade": true,
     "grade_id": "cell-b4683b910e8c7ca9",
     "locked": true,
     "points": 5,
     "schema_version": 1,
     "solution": false
    }
   },
   "outputs": [
    {
     "name": "stdout",
     "output_type": "stream",
     "text": [
      "0.05508074566359165\n"
     ]
    }
   ],
   "source": [
    "reg_target_encoding(train) \n",
    "encoded_feature = train[\"device_type_mean_enc\"].values\n",
    "corr = np.corrcoef(train[\"click\"].values, encoded_feature)[0][1]\n",
    "print(corr)\n",
    "assert(np.around(corr, decimals=4) == 0.0551)"
   ]
  },
  {
   "cell_type": "code",
   "execution_count": 97,
   "metadata": {
    "nbgrader": {
     "grade": false,
     "grade_id": "cell-72af369cd137b75b",
     "locked": false,
     "schema_version": 1,
     "solution": true
    }
   },
   "outputs": [],
   "source": [
    "def mean_encoding_test(test, train, col = \"device_type\"):\n",
    "    \"\"\" Computes target enconding for test data.\n",
    "    \n",
    "    This is similar to how we do validation\n",
    "    \"\"\"\n",
    "    ### BEGIN SOLUTION\n",
    "    name_new = col+\"_mean_enc\"\n",
    "    mean_col_value = train.groupby(col).click.mean()\n",
    "    global_mean = train.click.mean()\n",
    "    test[name_new] = test[col].map(mean_col_value)\n",
    "    test[name_new].fillna(global_mean, inplace=True)\n",
    "    ### END SOLUTION"
   ]
  },
  {
   "cell_type": "code",
   "execution_count": 98,
   "metadata": {
    "nbgrader": {
     "grade": true,
     "grade_id": "cell-ec2e728bbd5de8b3",
     "locked": true,
     "points": 2,
     "schema_version": 1,
     "solution": false
    }
   },
   "outputs": [],
   "source": [
    "mean_encoding_test(test, train) \n",
    "encoded_feature_mean = test[\"device_type_mean_enc\"].values.mean()\n",
    "assert(np.around(encoded_feature_mean, decimals=4) == 0.177)"
   ]
  },
  {
   "cell_type": "markdown",
   "metadata": {
    "nbgrader": {
     "grade": false,
     "grade_id": "cell-eb09ee7786ad32c2",
     "locked": true,
     "schema_version": 1,
     "solution": false
    }
   },
   "source": [
    "## Problem 4: Implement other features and fit a model (7 points)\n",
    "* Implement a few more features, include:\n",
    "   * day of the week and hour\n",
    "   * mean encoding of some other features (at least two)\n",
    "   * use plots and `value_counts()` to understand the data\n",
    "\n",
    "* Fit a random forest (to the whole dataset)\n",
    "   * Do hyperparameter tunning using your validation set\n",
    "   * Report validation and train log loss"
   ]
  },
  {
   "cell_type": "code",
   "execution_count": 12,
   "metadata": {
    "nbgrader": {
     "grade": false,
     "grade_id": "cell-d550376f1d386781",
     "locked": true,
     "schema_version": 1,
     "solution": false
    }
   },
   "outputs": [],
   "source": [
    "import datetime, time\n",
    "import feather\n",
    "from sklearn.ensemble import RandomForestClassifier\n",
    "from sklearn.metrics import log_loss\n",
    "import numpy as np\n",
    "import pandas as pd\n",
    "import matplotlib.pyplot as plt\n",
    "\n",
    "%matplotlib inline"
   ]
  },
  {
   "cell_type": "markdown",
   "metadata": {},
   "source": [
    "### EDA with sample data"
   ]
  },
  {
   "cell_type": "code",
   "execution_count": 175,
   "metadata": {},
   "outputs": [],
   "source": [
    "## Split train and validation \n",
    "# get sample data first\n",
    "PATH = Path(\"avazu-ctr-prediction\")\n",
    "!head -1000000 $PATH/train > $PATH/train_sample.csv\n",
    "!head -1000000 $PATH/test > $PATH/test_sample.csv\n",
    "train0 = pd.read_csv(PATH/\"train_sample.csv\")\n",
    "# test0 = pd.read_csv(PATH/\"test_sample.csv\")"
   ]
  },
  {
   "cell_type": "code",
   "execution_count": 161,
   "metadata": {},
   "outputs": [
    {
     "name": "stdout",
     "output_type": "stream",
     "text": [
      "Index(['id', 'click', 'hour', 'C1', 'banner_pos', 'site_id', 'site_domain',\n",
      "       'site_category', 'app_id', 'app_domain', 'app_category', 'device_id',\n",
      "       'device_ip', 'device_model', 'device_type', 'device_conn_type', 'C14',\n",
      "       'C15', 'C16', 'C17', 'C18', 'C19', 'C20', 'C21'],\n",
      "      dtype='object')\n",
      "14102104    264711\n",
      "14102102    207471\n",
      "14102103    193355\n",
      "14102101    137442\n",
      "14102100    119006\n",
      "14102105     78014\n",
      "Name: hour, dtype: int64\n"
     ]
    }
   ],
   "source": [
    "print(train0.columns)\n",
    "print(train0.hour.value_counts())"
   ]
  },
  {
   "cell_type": "code",
   "execution_count": 107,
   "metadata": {},
   "outputs": [
    {
     "name": "stdout",
     "output_type": "stream",
     "text": [
      "<class 'pandas.core.frame.DataFrame'>\n",
      "RangeIndex: 999999 entries, 0 to 999998\n",
      "Data columns (total 24 columns):\n",
      "id                  999999 non-null float64\n",
      "click               999999 non-null int64\n",
      "hour                999999 non-null int64\n",
      "C1                  999999 non-null int64\n",
      "banner_pos          999999 non-null int64\n",
      "site_id             999999 non-null object\n",
      "site_domain         999999 non-null object\n",
      "site_category       999999 non-null object\n",
      "app_id              999999 non-null object\n",
      "app_domain          999999 non-null object\n",
      "app_category        999999 non-null object\n",
      "device_id           999999 non-null object\n",
      "device_ip           999999 non-null object\n",
      "device_model        999999 non-null object\n",
      "device_type         999999 non-null int64\n",
      "device_conn_type    999999 non-null int64\n",
      "C14                 999999 non-null int64\n",
      "C15                 999999 non-null int64\n",
      "C16                 999999 non-null int64\n",
      "C17                 999999 non-null int64\n",
      "C18                 999999 non-null int64\n",
      "C19                 999999 non-null int64\n",
      "C20                 999999 non-null int64\n",
      "C21                 999999 non-null int64\n",
      "dtypes: float64(1), int64(14), object(9)\n",
      "memory usage: 672.3 MB\n"
     ]
    }
   ],
   "source": [
    "train0.info(memory_usage='deep')"
   ]
  },
  {
   "cell_type": "code",
   "execution_count": 108,
   "metadata": {},
   "outputs": [
    {
     "data": {
      "text/html": [
       "<div>\n",
       "<style scoped>\n",
       "    .dataframe tbody tr th:only-of-type {\n",
       "        vertical-align: middle;\n",
       "    }\n",
       "\n",
       "    .dataframe tbody tr th {\n",
       "        vertical-align: top;\n",
       "    }\n",
       "\n",
       "    .dataframe thead th {\n",
       "        text-align: right;\n",
       "    }\n",
       "</style>\n",
       "<table border=\"1\" class=\"dataframe\">\n",
       "  <thead>\n",
       "    <tr style=\"text-align: right;\">\n",
       "      <th></th>\n",
       "      <th>id</th>\n",
       "      <th>click</th>\n",
       "      <th>hour</th>\n",
       "      <th>C1</th>\n",
       "      <th>banner_pos</th>\n",
       "      <th>device_type</th>\n",
       "      <th>device_conn_type</th>\n",
       "      <th>C14</th>\n",
       "      <th>C15</th>\n",
       "      <th>C16</th>\n",
       "      <th>C17</th>\n",
       "      <th>C18</th>\n",
       "      <th>C19</th>\n",
       "      <th>C20</th>\n",
       "      <th>C21</th>\n",
       "    </tr>\n",
       "  </thead>\n",
       "  <tbody>\n",
       "    <tr>\n",
       "      <td>count</td>\n",
       "      <td>9.999990e+05</td>\n",
       "      <td>999999.000000</td>\n",
       "      <td>9.999990e+05</td>\n",
       "      <td>999999.000000</td>\n",
       "      <td>999999.000000</td>\n",
       "      <td>999999.000000</td>\n",
       "      <td>999999.000000</td>\n",
       "      <td>999999.000000</td>\n",
       "      <td>999999.000000</td>\n",
       "      <td>999999.000000</td>\n",
       "      <td>999999.000000</td>\n",
       "      <td>999999.000000</td>\n",
       "      <td>999999.000000</td>\n",
       "      <td>999999.000000</td>\n",
       "      <td>999999.000000</td>\n",
       "    </tr>\n",
       "    <tr>\n",
       "      <td>mean</td>\n",
       "      <td>9.376309e+18</td>\n",
       "      <td>0.160219</td>\n",
       "      <td>1.410210e+07</td>\n",
       "      <td>1005.088166</td>\n",
       "      <td>0.229922</td>\n",
       "      <td>1.025540</td>\n",
       "      <td>0.223360</td>\n",
       "      <td>18262.199732</td>\n",
       "      <td>318.965807</td>\n",
       "      <td>56.495552</td>\n",
       "      <td>2041.030657</td>\n",
       "      <td>1.452260</td>\n",
       "      <td>190.779412</td>\n",
       "      <td>45505.902746</td>\n",
       "      <td>69.936165</td>\n",
       "    </tr>\n",
       "    <tr>\n",
       "      <td>std</td>\n",
       "      <td>5.236908e+18</td>\n",
       "      <td>0.366809</td>\n",
       "      <td>1.493255e+00</td>\n",
       "      <td>1.156928</td>\n",
       "      <td>0.464627</td>\n",
       "      <td>0.453899</td>\n",
       "      <td>0.667159</td>\n",
       "      <td>3510.366393</td>\n",
       "      <td>19.452907</td>\n",
       "      <td>36.546962</td>\n",
       "      <td>441.200951</td>\n",
       "      <td>1.362637</td>\n",
       "      <td>273.439422</td>\n",
       "      <td>49843.814296</td>\n",
       "      <td>38.513837</td>\n",
       "    </tr>\n",
       "    <tr>\n",
       "      <td>min</td>\n",
       "      <td>9.984920e+12</td>\n",
       "      <td>0.000000</td>\n",
       "      <td>1.410210e+07</td>\n",
       "      <td>1001.000000</td>\n",
       "      <td>0.000000</td>\n",
       "      <td>0.000000</td>\n",
       "      <td>0.000000</td>\n",
       "      <td>375.000000</td>\n",
       "      <td>120.000000</td>\n",
       "      <td>20.000000</td>\n",
       "      <td>112.000000</td>\n",
       "      <td>0.000000</td>\n",
       "      <td>33.000000</td>\n",
       "      <td>-1.000000</td>\n",
       "      <td>13.000000</td>\n",
       "    </tr>\n",
       "    <tr>\n",
       "      <td>25%</td>\n",
       "      <td>4.846660e+18</td>\n",
       "      <td>0.000000</td>\n",
       "      <td>1.410210e+07</td>\n",
       "      <td>1005.000000</td>\n",
       "      <td>0.000000</td>\n",
       "      <td>1.000000</td>\n",
       "      <td>0.000000</td>\n",
       "      <td>15707.000000</td>\n",
       "      <td>320.000000</td>\n",
       "      <td>50.000000</td>\n",
       "      <td>1722.000000</td>\n",
       "      <td>0.000000</td>\n",
       "      <td>35.000000</td>\n",
       "      <td>-1.000000</td>\n",
       "      <td>43.000000</td>\n",
       "    </tr>\n",
       "    <tr>\n",
       "      <td>50%</td>\n",
       "      <td>9.834382e+18</td>\n",
       "      <td>0.000000</td>\n",
       "      <td>1.410210e+07</td>\n",
       "      <td>1005.000000</td>\n",
       "      <td>0.000000</td>\n",
       "      <td>1.000000</td>\n",
       "      <td>0.000000</td>\n",
       "      <td>19251.000000</td>\n",
       "      <td>320.000000</td>\n",
       "      <td>50.000000</td>\n",
       "      <td>2161.000000</td>\n",
       "      <td>1.000000</td>\n",
       "      <td>39.000000</td>\n",
       "      <td>-1.000000</td>\n",
       "      <td>61.000000</td>\n",
       "    </tr>\n",
       "    <tr>\n",
       "      <td>75%</td>\n",
       "      <td>1.373053e+19</td>\n",
       "      <td>0.000000</td>\n",
       "      <td>1.410210e+07</td>\n",
       "      <td>1005.000000</td>\n",
       "      <td>0.000000</td>\n",
       "      <td>1.000000</td>\n",
       "      <td>0.000000</td>\n",
       "      <td>21153.000000</td>\n",
       "      <td>320.000000</td>\n",
       "      <td>50.000000</td>\n",
       "      <td>2420.000000</td>\n",
       "      <td>3.000000</td>\n",
       "      <td>297.000000</td>\n",
       "      <td>100084.000000</td>\n",
       "      <td>79.000000</td>\n",
       "    </tr>\n",
       "    <tr>\n",
       "      <td>max</td>\n",
       "      <td>1.844670e+19</td>\n",
       "      <td>1.000000</td>\n",
       "      <td>1.410210e+07</td>\n",
       "      <td>1012.000000</td>\n",
       "      <td>7.000000</td>\n",
       "      <td>5.000000</td>\n",
       "      <td>5.000000</td>\n",
       "      <td>21705.000000</td>\n",
       "      <td>1024.000000</td>\n",
       "      <td>1024.000000</td>\n",
       "      <td>2497.000000</td>\n",
       "      <td>3.000000</td>\n",
       "      <td>1835.000000</td>\n",
       "      <td>100248.000000</td>\n",
       "      <td>195.000000</td>\n",
       "    </tr>\n",
       "  </tbody>\n",
       "</table>\n",
       "</div>"
      ],
      "text/plain": [
       "                 id          click          hour             C1  \\\n",
       "count  9.999990e+05  999999.000000  9.999990e+05  999999.000000   \n",
       "mean   9.376309e+18       0.160219  1.410210e+07    1005.088166   \n",
       "std    5.236908e+18       0.366809  1.493255e+00       1.156928   \n",
       "min    9.984920e+12       0.000000  1.410210e+07    1001.000000   \n",
       "25%    4.846660e+18       0.000000  1.410210e+07    1005.000000   \n",
       "50%    9.834382e+18       0.000000  1.410210e+07    1005.000000   \n",
       "75%    1.373053e+19       0.000000  1.410210e+07    1005.000000   \n",
       "max    1.844670e+19       1.000000  1.410210e+07    1012.000000   \n",
       "\n",
       "          banner_pos    device_type  device_conn_type            C14  \\\n",
       "count  999999.000000  999999.000000     999999.000000  999999.000000   \n",
       "mean        0.229922       1.025540          0.223360   18262.199732   \n",
       "std         0.464627       0.453899          0.667159    3510.366393   \n",
       "min         0.000000       0.000000          0.000000     375.000000   \n",
       "25%         0.000000       1.000000          0.000000   15707.000000   \n",
       "50%         0.000000       1.000000          0.000000   19251.000000   \n",
       "75%         0.000000       1.000000          0.000000   21153.000000   \n",
       "max         7.000000       5.000000          5.000000   21705.000000   \n",
       "\n",
       "                 C15            C16            C17            C18  \\\n",
       "count  999999.000000  999999.000000  999999.000000  999999.000000   \n",
       "mean      318.965807      56.495552    2041.030657       1.452260   \n",
       "std        19.452907      36.546962     441.200951       1.362637   \n",
       "min       120.000000      20.000000     112.000000       0.000000   \n",
       "25%       320.000000      50.000000    1722.000000       0.000000   \n",
       "50%       320.000000      50.000000    2161.000000       1.000000   \n",
       "75%       320.000000      50.000000    2420.000000       3.000000   \n",
       "max      1024.000000    1024.000000    2497.000000       3.000000   \n",
       "\n",
       "                 C19            C20            C21  \n",
       "count  999999.000000  999999.000000  999999.000000  \n",
       "mean      190.779412   45505.902746      69.936165  \n",
       "std       273.439422   49843.814296      38.513837  \n",
       "min        33.000000      -1.000000      13.000000  \n",
       "25%        35.000000      -1.000000      43.000000  \n",
       "50%        39.000000      -1.000000      61.000000  \n",
       "75%       297.000000  100084.000000      79.000000  \n",
       "max      1835.000000  100248.000000     195.000000  "
      ]
     },
     "execution_count": 108,
     "metadata": {},
     "output_type": "execute_result"
    }
   ],
   "source": [
    "train0.describe()"
   ]
  },
  {
   "cell_type": "code",
   "execution_count": 122,
   "metadata": {},
   "outputs": [
    {
     "name": "stdout",
     "output_type": "stream",
     "text": [
      "<class 'pandas.core.frame.DataFrame'>\n",
      "RangeIndex: 999999 entries, 0 to 999998\n",
      "Data columns (total 24 columns):\n",
      "id                  999999 non-null uint32\n",
      "click               999999 non-null uint8\n",
      "hour                999999 non-null uint32\n",
      "C1                  999999 non-null uint32\n",
      "banner_pos          999999 non-null uint32\n",
      "site_id             999999 non-null category\n",
      "site_domain         999999 non-null category\n",
      "site_category       999999 non-null category\n",
      "app_id              999999 non-null category\n",
      "app_domain          999999 non-null category\n",
      "app_category        999999 non-null category\n",
      "device_id           999999 non-null category\n",
      "device_ip           999999 non-null category\n",
      "device_model        999999 non-null category\n",
      "device_type         999999 non-null uint8\n",
      "device_conn_type    999999 non-null uint8\n",
      "C14                 999999 non-null uint16\n",
      "C15                 999999 non-null uint16\n",
      "C16                 999999 non-null uint16\n",
      "C17                 999999 non-null uint16\n",
      "C18                 999999 non-null uint16\n",
      "C19                 999999 non-null uint16\n",
      "C20                 999999 non-null uint16\n",
      "C21                 999999 non-null uint16\n",
      "dtypes: category(9), uint16(8), uint32(4), uint8(3)\n",
      "memory usage: 90.6 MB\n",
      "None\n"
     ]
    }
   ],
   "source": [
    "# Clean the data.\n",
    "types = {'id': np.uint32, 'click': np.uint8, 'hour': np.uint32, 'C1': np.uint32, 'banner_pos': np.uint32,\n",
    "         'site_id': 'category', 'site_domain': 'category', 'site_category': 'category', 'app_id': 'category',\n",
    "         'app_domain': 'category', 'app_category': 'category', 'device_id': 'category',\n",
    "         'device_ip': 'category', 'device_model': 'category', 'device_type': np.uint8, 'device_conn_type': np.uint8,\n",
    "         'C14': np.uint16, 'C15': np.uint16, 'C16': np.uint16, 'C17': np.uint16, 'C18': np.uint16, 'C19': np.uint16,\n",
    "         'C20': np.uint16, 'C21': np.uint16}\n",
    "\n",
    "types_test = {'id': np.uint32, 'hour': np.uint32, 'C1': np.uint32, 'banner_pos': np.uint32,\n",
    "         'site_id': 'category', 'site_domain': 'category', 'site_category': 'category', 'app_id': 'category',\n",
    "         'app_domain': 'category', 'app_category': 'category', 'device_id': 'category',\n",
    "         'device_ip': 'category', 'device_model': 'category', 'device_type': np.uint8, 'device_conn_type': np.uint8,\n",
    "         'C14': np.uint16, 'C15': np.uint16, 'C16': np.uint16, 'C17': np.uint16, 'C18': np.uint16, 'C19': np.uint16,\n",
    "         'C20': np.uint16, 'C21': np.uint16}\n",
    "\n",
    "train0 = pd.read_csv(PATH/\"train_sample.csv\", usecols=types.keys(), dtype=types)\n",
    "# test0 = pd.read_csv(PATH/\"test_sample.csv\", usecols=types_test.keys(), dtype=types_test)\n",
    "print(train0.info(memory_usage='deep'))"
   ]
  },
  {
   "cell_type": "markdown",
   "metadata": {},
   "source": [
    "### Extract dayOfWeek, hour and perform mean encoding"
   ]
  },
  {
   "cell_type": "code",
   "execution_count": 196,
   "metadata": {},
   "outputs": [],
   "source": [
    "# initialize the toy train/test set.\n",
    "train1 = train0.copy()\n",
    "traink, validk = split_based_hour(train1)\n",
    "# testk = test0.copy()"
   ]
  },
  {
   "cell_type": "code",
   "execution_count": 177,
   "metadata": {},
   "outputs": [],
   "source": [
    "def extract_dates_and_mean_encode(df, cols=[\"device_type\", \"banner_pos\", \"device_conn_type\"]):\n",
    "    \"\"\"\n",
    "    Perform mean encoding for the interested columns.\n",
    "    Then extract the date information.\n",
    "    Finally drop the useless columns.\n",
    "    \"\"\"\n",
    "    if 'dayofweek' in df.columns and 'device_type_mean_enc' in df.columns:\n",
    "        print('All set.')\n",
    "        return df\n",
    "    \n",
    "    for col in cols:\n",
    "        reg_target_encoding(df, col=col)\n",
    "\n",
    "    df['datetime'] = pd.to_datetime(df['hour'], format='%y%m%d%H', errors='ignore')\n",
    "    df['dayofweek'] = df['datetime'].dt.dayofweek\n",
    "    df['hour'] = df['datetime'].dt.hour\n",
    "    df = df.drop('datetime', axis=1)\n",
    "    \n",
    "    return df"
   ]
  },
  {
   "cell_type": "code",
   "execution_count": 204,
   "metadata": {},
   "outputs": [],
   "source": [
    "def do_the_same_to_valid(train, valid, cols=[\"device_type\", \"banner_pos\", \"device_conn_type\"]):\n",
    "    if 'dayofweek' in valid.columns and 'device_type_mean_enc' in valid.columns:\n",
    "        print('All set.')\n",
    "        return valid\n",
    "    \n",
    "    for col in cols:\n",
    "        mean_encoding_test(valid, train, col)\n",
    "        \n",
    "    valid['datetime'] = pd.to_datetime(valid['hour'], format='%y%m%d%H', errors='ignore')\n",
    "    valid['dayofweek'] = valid['datetime'].dt.dayofweek\n",
    "    valid['hour'] = valid['datetime'].dt.hour\n",
    "    valid = valid.drop('datetime', axis=1)\n",
    "    return valid\n",
    "\n",
    "\n",
    "from sklearn.preprocessing import OneHotEncoder\n",
    "hot = OneHotEncoder(handle_unknown='ignore')\n",
    "def label_encode(train, valid):\n",
    "    cols_to_label = ['site_id', 'site_domain', 'site_category', 'app_id',\n",
    "                 'app_domain', 'app_category', 'device_id', 'device_ip', 'device_model']\n",
    "    for col in cols_to_label:\n",
    "        X = hot.fit_transform(train[col].values.reshape(-1,1)).toarray()\n",
    "        dfOneHot = pd.DataFrame(X, columns = [col+\"_\"+str(int(i)) for i in range(X.shape[1])])\n",
    "        train = pd.concat([train, dfOneHot], axis=1)\n",
    "        X = hot.transform(valid[col].values.reshape(-1,1)).toarray()\n",
    "        dfOneHot = pd.DataFrame(X, columns = [col+\"_\"+str(int(i)) for i in range(X.shape[1])])\n",
    "        valid = pd.concat([valid, dfOneHot], axis=1)\n",
    "    return train, valid"
   ]
  },
  {
   "cell_type": "code",
   "execution_count": 208,
   "metadata": {},
   "outputs": [
    {
     "name": "stdout",
     "output_type": "stream",
     "text": [
      "All set.\n"
     ]
    }
   ],
   "source": [
    "traink = extract_dates_and_mean_encode(traink)"
   ]
  },
  {
   "cell_type": "code",
   "execution_count": 209,
   "metadata": {},
   "outputs": [
    {
     "name": "stdout",
     "output_type": "stream",
     "text": [
      "All set.\n"
     ]
    }
   ],
   "source": [
    "validk = do_the_same_to_valid(traink, validk)"
   ]
  },
  {
   "cell_type": "code",
   "execution_count": 211,
   "metadata": {},
   "outputs": [],
   "source": [
    "#  traink, validk = label_encode(traink, validk)"
   ]
  },
  {
   "cell_type": "code",
   "execution_count": 213,
   "metadata": {},
   "outputs": [],
   "source": [
    "def featureAndLabel(df):\n",
    "    cols_to_label = ['site_id', 'site_domain', 'site_category', 'app_id',\n",
    "                 'app_domain', 'app_category', 'device_id', 'device_ip', 'device_model']\n",
    "    evil = ['index', 'id']+cols_to_label\n",
    "    df = df.drop(evil, axis=1)\n",
    "    y = df['click']\n",
    "    X = df.drop(['click'], axis=1)\n",
    "    return X, y"
   ]
  },
  {
   "cell_type": "code",
   "execution_count": 214,
   "metadata": {},
   "outputs": [],
   "source": [
    "Xt, yt = featureAndLabel(traink)\n",
    "Xv, yv = featureAndLabel(validk)"
   ]
  },
  {
   "cell_type": "code",
   "execution_count": 215,
   "metadata": {},
   "outputs": [
    {
     "data": {
      "text/html": [
       "<div>\n",
       "<style scoped>\n",
       "    .dataframe tbody tr th:only-of-type {\n",
       "        vertical-align: middle;\n",
       "    }\n",
       "\n",
       "    .dataframe tbody tr th {\n",
       "        vertical-align: top;\n",
       "    }\n",
       "\n",
       "    .dataframe thead th {\n",
       "        text-align: right;\n",
       "    }\n",
       "</style>\n",
       "<table border=\"1\" class=\"dataframe\">\n",
       "  <thead>\n",
       "    <tr style=\"text-align: right;\">\n",
       "      <th></th>\n",
       "      <th>hour</th>\n",
       "      <th>C1</th>\n",
       "      <th>banner_pos</th>\n",
       "      <th>device_type</th>\n",
       "      <th>device_conn_type</th>\n",
       "      <th>C14</th>\n",
       "      <th>C15</th>\n",
       "      <th>C16</th>\n",
       "      <th>C17</th>\n",
       "      <th>C18</th>\n",
       "      <th>C19</th>\n",
       "      <th>C20</th>\n",
       "      <th>C21</th>\n",
       "      <th>device_type_mean_enc</th>\n",
       "      <th>banner_pos_mean_enc</th>\n",
       "      <th>device_conn_type_mean_enc</th>\n",
       "      <th>dayofweek</th>\n",
       "    </tr>\n",
       "  </thead>\n",
       "  <tbody>\n",
       "    <tr>\n",
       "      <td>0</td>\n",
       "      <td>0</td>\n",
       "      <td>1005</td>\n",
       "      <td>0</td>\n",
       "      <td>1</td>\n",
       "      <td>2</td>\n",
       "      <td>15706</td>\n",
       "      <td>320</td>\n",
       "      <td>50</td>\n",
       "      <td>1722</td>\n",
       "      <td>0</td>\n",
       "      <td>35</td>\n",
       "      <td>-1</td>\n",
       "      <td>79</td>\n",
       "      <td>0.160044</td>\n",
       "      <td>0.151323</td>\n",
       "      <td>0.114499</td>\n",
       "      <td>1</td>\n",
       "    </tr>\n",
       "    <tr>\n",
       "      <td>1</td>\n",
       "      <td>0</td>\n",
       "      <td>1010</td>\n",
       "      <td>1</td>\n",
       "      <td>4</td>\n",
       "      <td>0</td>\n",
       "      <td>21665</td>\n",
       "      <td>320</td>\n",
       "      <td>50</td>\n",
       "      <td>2493</td>\n",
       "      <td>3</td>\n",
       "      <td>35</td>\n",
       "      <td>-1</td>\n",
       "      <td>117</td>\n",
       "      <td>0.075583</td>\n",
       "      <td>0.191974</td>\n",
       "      <td>0.165967</td>\n",
       "      <td>1</td>\n",
       "    </tr>\n",
       "    <tr>\n",
       "      <td>2</td>\n",
       "      <td>0</td>\n",
       "      <td>1005</td>\n",
       "      <td>0</td>\n",
       "      <td>1</td>\n",
       "      <td>0</td>\n",
       "      <td>15707</td>\n",
       "      <td>320</td>\n",
       "      <td>50</td>\n",
       "      <td>1722</td>\n",
       "      <td>0</td>\n",
       "      <td>35</td>\n",
       "      <td>-1</td>\n",
       "      <td>79</td>\n",
       "      <td>0.160044</td>\n",
       "      <td>0.151323</td>\n",
       "      <td>0.165967</td>\n",
       "      <td>1</td>\n",
       "    </tr>\n",
       "    <tr>\n",
       "      <td>3</td>\n",
       "      <td>0</td>\n",
       "      <td>1005</td>\n",
       "      <td>1</td>\n",
       "      <td>1</td>\n",
       "      <td>0</td>\n",
       "      <td>20751</td>\n",
       "      <td>320</td>\n",
       "      <td>50</td>\n",
       "      <td>1895</td>\n",
       "      <td>0</td>\n",
       "      <td>681</td>\n",
       "      <td>100028</td>\n",
       "      <td>101</td>\n",
       "      <td>0.160044</td>\n",
       "      <td>0.191974</td>\n",
       "      <td>0.165967</td>\n",
       "      <td>1</td>\n",
       "    </tr>\n",
       "    <tr>\n",
       "      <td>4</td>\n",
       "      <td>0</td>\n",
       "      <td>1005</td>\n",
       "      <td>0</td>\n",
       "      <td>1</td>\n",
       "      <td>0</td>\n",
       "      <td>16920</td>\n",
       "      <td>320</td>\n",
       "      <td>50</td>\n",
       "      <td>1899</td>\n",
       "      <td>0</td>\n",
       "      <td>431</td>\n",
       "      <td>100075</td>\n",
       "      <td>117</td>\n",
       "      <td>0.160044</td>\n",
       "      <td>0.151323</td>\n",
       "      <td>0.165967</td>\n",
       "      <td>1</td>\n",
       "    </tr>\n",
       "    <tr>\n",
       "      <td>...</td>\n",
       "      <td>...</td>\n",
       "      <td>...</td>\n",
       "      <td>...</td>\n",
       "      <td>...</td>\n",
       "      <td>...</td>\n",
       "      <td>...</td>\n",
       "      <td>...</td>\n",
       "      <td>...</td>\n",
       "      <td>...</td>\n",
       "      <td>...</td>\n",
       "      <td>...</td>\n",
       "      <td>...</td>\n",
       "      <td>...</td>\n",
       "      <td>...</td>\n",
       "      <td>...</td>\n",
       "      <td>...</td>\n",
       "      <td>...</td>\n",
       "    </tr>\n",
       "    <tr>\n",
       "      <td>799994</td>\n",
       "      <td>4</td>\n",
       "      <td>1005</td>\n",
       "      <td>0</td>\n",
       "      <td>1</td>\n",
       "      <td>0</td>\n",
       "      <td>20003</td>\n",
       "      <td>320</td>\n",
       "      <td>50</td>\n",
       "      <td>2282</td>\n",
       "      <td>3</td>\n",
       "      <td>35</td>\n",
       "      <td>-1</td>\n",
       "      <td>117</td>\n",
       "      <td>0.165773</td>\n",
       "      <td>0.157090</td>\n",
       "      <td>0.170598</td>\n",
       "      <td>1</td>\n",
       "    </tr>\n",
       "    <tr>\n",
       "      <td>799995</td>\n",
       "      <td>4</td>\n",
       "      <td>1005</td>\n",
       "      <td>0</td>\n",
       "      <td>1</td>\n",
       "      <td>0</td>\n",
       "      <td>21647</td>\n",
       "      <td>320</td>\n",
       "      <td>50</td>\n",
       "      <td>2487</td>\n",
       "      <td>1</td>\n",
       "      <td>547</td>\n",
       "      <td>-1</td>\n",
       "      <td>51</td>\n",
       "      <td>0.165773</td>\n",
       "      <td>0.157090</td>\n",
       "      <td>0.170598</td>\n",
       "      <td>1</td>\n",
       "    </tr>\n",
       "    <tr>\n",
       "      <td>799996</td>\n",
       "      <td>4</td>\n",
       "      <td>1005</td>\n",
       "      <td>0</td>\n",
       "      <td>1</td>\n",
       "      <td>0</td>\n",
       "      <td>15708</td>\n",
       "      <td>320</td>\n",
       "      <td>50</td>\n",
       "      <td>1722</td>\n",
       "      <td>0</td>\n",
       "      <td>35</td>\n",
       "      <td>-1</td>\n",
       "      <td>79</td>\n",
       "      <td>0.165773</td>\n",
       "      <td>0.157090</td>\n",
       "      <td>0.170598</td>\n",
       "      <td>1</td>\n",
       "    </tr>\n",
       "    <tr>\n",
       "      <td>799997</td>\n",
       "      <td>4</td>\n",
       "      <td>1005</td>\n",
       "      <td>0</td>\n",
       "      <td>1</td>\n",
       "      <td>0</td>\n",
       "      <td>15705</td>\n",
       "      <td>320</td>\n",
       "      <td>50</td>\n",
       "      <td>1722</td>\n",
       "      <td>0</td>\n",
       "      <td>35</td>\n",
       "      <td>-1</td>\n",
       "      <td>79</td>\n",
       "      <td>0.165773</td>\n",
       "      <td>0.157090</td>\n",
       "      <td>0.170598</td>\n",
       "      <td>1</td>\n",
       "    </tr>\n",
       "    <tr>\n",
       "      <td>799998</td>\n",
       "      <td>4</td>\n",
       "      <td>1002</td>\n",
       "      <td>0</td>\n",
       "      <td>0</td>\n",
       "      <td>0</td>\n",
       "      <td>6563</td>\n",
       "      <td>320</td>\n",
       "      <td>50</td>\n",
       "      <td>572</td>\n",
       "      <td>2</td>\n",
       "      <td>39</td>\n",
       "      <td>-1</td>\n",
       "      <td>32</td>\n",
       "      <td>0.216867</td>\n",
       "      <td>0.157090</td>\n",
       "      <td>0.170598</td>\n",
       "      <td>1</td>\n",
       "    </tr>\n",
       "  </tbody>\n",
       "</table>\n",
       "<p>799999 rows × 17 columns</p>\n",
       "</div>"
      ],
      "text/plain": [
       "        hour    C1  banner_pos  device_type  device_conn_type    C14  C15  \\\n",
       "0          0  1005           0            1                 2  15706  320   \n",
       "1          0  1010           1            4                 0  21665  320   \n",
       "2          0  1005           0            1                 0  15707  320   \n",
       "3          0  1005           1            1                 0  20751  320   \n",
       "4          0  1005           0            1                 0  16920  320   \n",
       "...      ...   ...         ...          ...               ...    ...  ...   \n",
       "799994     4  1005           0            1                 0  20003  320   \n",
       "799995     4  1005           0            1                 0  21647  320   \n",
       "799996     4  1005           0            1                 0  15708  320   \n",
       "799997     4  1005           0            1                 0  15705  320   \n",
       "799998     4  1002           0            0                 0   6563  320   \n",
       "\n",
       "        C16   C17  C18  C19     C20  C21  device_type_mean_enc  \\\n",
       "0        50  1722    0   35      -1   79              0.160044   \n",
       "1        50  2493    3   35      -1  117              0.075583   \n",
       "2        50  1722    0   35      -1   79              0.160044   \n",
       "3        50  1895    0  681  100028  101              0.160044   \n",
       "4        50  1899    0  431  100075  117              0.160044   \n",
       "...     ...   ...  ...  ...     ...  ...                   ...   \n",
       "799994   50  2282    3   35      -1  117              0.165773   \n",
       "799995   50  2487    1  547      -1   51              0.165773   \n",
       "799996   50  1722    0   35      -1   79              0.165773   \n",
       "799997   50  1722    0   35      -1   79              0.165773   \n",
       "799998   50   572    2   39      -1   32              0.216867   \n",
       "\n",
       "        banner_pos_mean_enc  device_conn_type_mean_enc  dayofweek  \n",
       "0                  0.151323                   0.114499          1  \n",
       "1                  0.191974                   0.165967          1  \n",
       "2                  0.151323                   0.165967          1  \n",
       "3                  0.191974                   0.165967          1  \n",
       "4                  0.151323                   0.165967          1  \n",
       "...                     ...                        ...        ...  \n",
       "799994             0.157090                   0.170598          1  \n",
       "799995             0.157090                   0.170598          1  \n",
       "799996             0.157090                   0.170598          1  \n",
       "799997             0.157090                   0.170598          1  \n",
       "799998             0.157090                   0.170598          1  \n",
       "\n",
       "[799999 rows x 17 columns]"
      ]
     },
     "execution_count": 215,
     "metadata": {},
     "output_type": "execute_result"
    }
   ],
   "source": [
    "Xt"
   ]
  },
  {
   "cell_type": "code",
   "execution_count": 230,
   "metadata": {},
   "outputs": [],
   "source": [
    "def search_para():\n",
    "    for max_depth in [4, 5, 6, 8, 10]:\n",
    "        rf = RandomForestClassifier(n_estimators=100\n",
    "                                    , max_depth=max_depth\n",
    "        #                             , class_weight='balanced'\n",
    "                                    , n_jobs = -1)\n",
    "        rf.fit(Xt, yt)\n",
    "        print(\"Training set accuracy:\", rf.score(Xt, yt))\n",
    "        print(\"Validation set accuracy:\", rf.score(Xv, yv))\n",
    "        ytpred = rf.predict_proba(Xt)\n",
    "        yvpred = rf.predict_proba(Xv)\n",
    "        print(\"max_depth:\", max_depth)\n",
    "        print(\"Training set log loss:\", log_loss(yt, ytpred))\n",
    "        print(\"Validation set log loss:\", log_loss(yv, yvpred))\n",
    "        print(\"\\n\")"
   ]
  },
  {
   "cell_type": "code",
   "execution_count": 231,
   "metadata": {},
   "outputs": [
    {
     "name": "stdout",
     "output_type": "stream",
     "text": [
      "Training set accuracy: 0.8369722962153703\n",
      "Validation set accuracy: 0.851015\n",
      "max_depth: 4\n",
      "Training set log loss: 0.4103056970639195\n",
      "Validation set log loss: 0.39169623357880096\n",
      "\n",
      "\n",
      "Training set accuracy: 0.8383572979466224\n",
      "Validation set accuracy: 0.85154\n",
      "max_depth: 5\n",
      "Training set log loss: 0.4080902155158526\n",
      "Validation set log loss: 0.38967980753399417\n",
      "\n",
      "\n",
      "Training set accuracy: 0.8388397985497482\n",
      "Validation set accuracy: 0.851665\n",
      "max_depth: 6\n",
      "Training set log loss: 0.4060513064830593\n",
      "Validation set log loss: 0.3878176749497941\n",
      "\n",
      "\n",
      "Training set accuracy: 0.8391835489794363\n",
      "Validation set accuracy: 0.85193\n",
      "max_depth: 8\n",
      "Training set log loss: 0.4030321894824807\n",
      "Validation set log loss: 0.38498688353980237\n",
      "\n",
      "\n",
      "Training set accuracy: 0.8397510496888121\n",
      "Validation set accuracy: 0.85214\n",
      "max_depth: 10\n",
      "Training set log loss: 0.3998703517577298\n",
      "Validation set log loss: 0.38229128782356014\n",
      "\n",
      "\n"
     ]
    }
   ],
   "source": [
    "search_para()"
   ]
  },
  {
   "cell_type": "markdown",
   "metadata": {},
   "source": [
    "We can conclude that higher max_depth of trees give us higher accuracy and lower log loss."
   ]
  },
  {
   "cell_type": "markdown",
   "metadata": {},
   "source": [
    "### Do the real stuff"
   ]
  },
  {
   "cell_type": "code",
   "execution_count": 234,
   "metadata": {},
   "outputs": [],
   "source": [
    "realdata = pd.read_csv(PATH/\"train\")\n",
    "trainr, validr = split_based_hour(realdata)\n",
    "trainr = extract_dates_and_mean_encode(trainr)\n",
    "validr = do_the_same_to_valid(trainr, validr)\n",
    "Xtr, ytr = featureAndLabel(trainr)\n",
    "Xvr, yvr = featureAndLabel(validr)"
   ]
  },
  {
   "cell_type": "code",
   "execution_count": 235,
   "metadata": {},
   "outputs": [
    {
     "name": "stdout",
     "output_type": "stream",
     "text": [
      "Training set accuracy: 0.8397522996903746\n",
      "Validation set accuracy: 0.85215\n",
      "Training set log loss: 0.3998168818775622\n",
      "Validation set log loss: 0.3824445543306857\n"
     ]
    }
   ],
   "source": [
    "rf = RandomForestClassifier(n_estimators=100, max_depth=max_depth  # , class_weight='balanced'\n",
    "                            , n_jobs=-1)\n",
    "rf.fit(Xt, yt)\n",
    "print(\"Training set accuracy:\", rf.score(Xt, yt))\n",
    "print(\"Validation set accuracy:\", rf.score(Xv, yv))\n",
    "ytpred = rf.predict_proba(Xt)\n",
    "yvpred = rf.predict_proba(Xv)\n",
    "print(\"max_depth:\", max_depth)\n",
    "print(\"Training set log loss:\", log_loss(yt, ytpred))\n",
    "print(\"Validation set log loss:\", log_loss(yv, yvpred))"
   ]
  },
  {
   "cell_type": "markdown",
   "metadata": {},
   "source": [
    "Training log loss is 0.3998, and validation log logss is 0.3824."
   ]
  },
  {
   "cell_type": "markdown",
   "metadata": {},
   "source": [
    "----"
   ]
  }
 ],
 "metadata": {
  "celltoolbar": "Create Assignment",
  "kernelspec": {
   "display_name": "Python 3",
   "language": "python",
   "name": "python3"
  },
  "language_info": {
   "codemirror_mode": {
    "name": "ipython",
    "version": 3
   },
   "file_extension": ".py",
   "mimetype": "text/x-python",
   "name": "python",
   "nbconvert_exporter": "python",
   "pygments_lexer": "ipython3",
   "version": "3.7.4"
  },
  "toc": {
   "nav_menu": {},
   "number_sections": true,
   "sideBar": true,
   "skip_h1_title": false,
   "toc_cell": false,
   "toc_position": {},
   "toc_section_display": "block",
   "toc_window_display": false
  }
 },
 "nbformat": 4,
 "nbformat_minor": 2
}
